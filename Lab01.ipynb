{
 "cells": [
  {
   "cell_type": "markdown",
   "metadata": {},
   "source": [
    "# 实验课 01"
   ]
  },
  {
   "cell_type": "markdown",
   "metadata": {},
   "source": [
    "## 实验1-1 GitHub的初始化"
   ]
  },
  {
   "cell_type": "markdown",
   "metadata": {},
   "source": [
    "### 步骤1 注册并登录GitHub\n",
    "\n",
    "用浏览器打开 [GitHub](https://github.com)。\n",
    "\n",
    "如果还没有GitHub账户，请点击右上角的Sign up按钮，注册一个新账号。\n",
    "\n",
    "然后登录GitHub账号。"
   ]
  },
  {
   "cell_type": "markdown",
   "metadata": {},
   "source": [
    "### 步骤2 新建一个仓库\n",
    "\n",
    "单击左侧的New按钮，新建仓库。\n",
    "\n",
    "![新建仓库按钮](img/Lab01-1-1.png)\n",
    "\n",
    "在新建仓库页面的\"Repository name\"中输入仓库名称，其他保持默认选项，单击下方的\"Create repository\"按钮，完成新建仓库。\n",
    "\n",
    "![新建仓库](img/Lab01-1-2.png)"
   ]
  },
  {
   "cell_type": "markdown",
   "metadata": {},
   "source": [
    "***"
   ]
  },
  {
   "cell_type": "markdown",
   "metadata": {},
   "source": [
    "## 实验1-2 配置编程环境"
   ]
  },
  {
   "cell_type": "markdown",
   "metadata": {},
   "source": [
    "### 步骤1 确认系统架构\n",
    "\n",
    "按下Win+R键，弹出“运行”窗口，在“打开”输入框中输入`cmd`后回车，启动命令提示符。\n",
    "\n",
    "在命令行界面输入`wmic CPU get DataWidth`后回车，记录CPU的架构是32位还是64位\n",
    "\n",
    "在命令行界面输入`wmic OS get OSArchitecture`后回车，记录操作系统的架构是32位还是64位"
   ]
  },
  {
   "cell_type": "markdown",
   "metadata": {},
   "source": [
    "### 步骤2 确认PowerShell版本\n",
    "\n",
    "在命令行界面输入`powershell`后回车，进入PowerShell，可观察到命令行起始出现了`PS`字样\n",
    "\n",
    "输入`$PSVersionTable.PSVersion.Major`后回车，记录返回值\n",
    "\n",
    "> 若返回值小于5，请下载安装以下2个软件\n",
    "\n",
    "> [.NET Framework 4.5 or later](https://dotnet.microsoft.com/download/dotnet-framework/thank-you/net48-web-installer)\n",
    " \n",
    "> [Windows Management Framework 5.x](https://aka.ms/wmf5download)\n",
    "\n",
    "完成后关闭所有命令行窗口"
   ]
  },
  {
   "cell_type": "markdown",
   "metadata": {},
   "source": [
    "### 步骤3 安装ConEmu\n",
    "\n",
    "浏览器打开[ConEmu官方网站](https://conemu.github.io/)，点击Download按钮，然后下载ConEmu Preview+Alpha, Installer (32-bit, 64-bit)版本的安装包\n",
    "\n",
    "根据在步骤1记录的系统架构版本选择安装版本（32位选择x86，64位选择x64）\n",
    "\n",
    "安装完成后运行ConEmu\n",
    "\n",
    "在弹出的设置界面中将下图所示下拉菜单选项修改为`{Shells::PowerShell}`，然后单击Save settings保存修改\n",
    "\n",
    "![ConEmu设置](img/Lab01-2-1.png)"
   ]
  },
  {
   "cell_type": "markdown",
   "metadata": {},
   "source": [
    "### 步骤4 安装软件管理工具Scoop\n",
    "\n",
    "在ConEmu中输入`Get-ExecutionPolicy`后回车，若返回`RemoteSigned`请直接进入下一步\n",
    "\n",
    "> 否则请输入`Set-ExecutionPolicy RemoteSigned -scope CurrentUser`后回车\n",
    "\n",
    "输入`iwr -useb get.scoop.sh | iex`后回车，开始自动下载安装Scoop"
   ]
  },
  {
   "cell_type": "markdown",
   "metadata": {},
   "source": [
    "### 步骤5 安装Git\n",
    "\n",
    "在ConEmu中输入`scoop install git`后回车，开始自动下载并安装Git"
   ]
  },
  {
   "cell_type": "markdown",
   "metadata": {},
   "source": [
    "### 步骤6 安装Python\n",
    "\n",
    "在ConEmu中输入`scoop install python37@3.7.4`后回车，开始自动下载并安装Python 3.7.4"
   ]
  },
  {
   "cell_type": "markdown",
   "metadata": {},
   "source": [
    "### 步骤7 安装busybox\n",
    "\n",
    "为更好地模拟Linux的命令，可下载安装busybox\n",
    "\n",
    "在ConEmu中输入`scoop install busybox`后回车，开始自动下载并安装busybox"
   ]
  },
  {
   "cell_type": "markdown",
   "metadata": {},
   "source": [
    "### 步骤8 安装Visual Studio Code\n",
    "\n",
    "浏览器打开[Visual Studio Code官方网站](https://code.visualstudio.com)下载安装包，并运行安装程序\n",
    "\n",
    "在ConEmu中输入`mkdir Code`后回车，在用户主目录下新建一个名为Code的文件夹\n",
    "\n",
    "输入`cd Code`后回车，进入该目录\n",
    "\n",
    "输入`code .`回车，Visual Studio Code开始运行并打开当前文件夹\n",
    "\n",
    "**测试一下**\n",
    "\n",
    "在Visual Studio Code中按下 Ctrl+N 新建文件，在代码窗口输入\n",
    "\n",
    "```python\n",
    "print('Hello World!')\n",
    "```\n",
    "\n",
    "然后按下 Ctrl+S 保存文件，命名为`hello.py`\n",
    "\n",
    "关闭Visual Studio Code，在ConEmu窗口中输入`ls`命令后回车，可以看到刚刚新建的hello.py文件\n",
    "\n",
    "输入`python hello.py`后回车，可以看到程序运行的结果"
   ]
  },
  {
   "cell_type": "markdown",
   "metadata": {},
   "source": [
    "### 步骤9 安装Jupyter\n",
    "\n",
    "在ConEmu中输入`python -m pip install --upgrade pip`后回车，更新Python自带的库安装工具\n",
    "\n",
    "更新完成后输入`pip install jupyterlab`后回车，开始下载并安装Jupyter\n",
    "\n",
    "安装完成后输入`jupyter lab`后回车，系统会启动浏览器并自动弹出Jupyter起始界面\n",
    "\n",
    "![Jupyter起始界面](img/Lab01-2-2.png)\n",
    "\n",
    "使用完毕后再ConEmu中按下 Ctrl+C 键停止本地Jupyter服务器的运作"
   ]
  },
  {
   "cell_type": "markdown",
   "metadata": {},
   "source": [
    "***"
   ]
  },
  {
   "cell_type": "markdown",
   "metadata": {},
   "source": [
    "## 实验3 Git初试"
   ]
  },
  {
   "cell_type": "markdown",
   "metadata": {},
   "source": [
    "### 步骤1 设置个人信息\n",
    "\n",
    "在多人协作开发中需要明确代码编辑者的信息，所以在使用Git前我们首先设置一下自己的个人信息\n",
    "\n",
    "启动ConEmu，输入`git config --global user.name \"Your Name\"`后回车（其中引号内的Your Name替换成你的英文名）\n",
    "\n",
    "然后再输入`git config --global user.email your_email@xyz.com`后回车（替换为你的电子邮箱地址）"
   ]
  },
  {
   "cell_type": "markdown",
   "metadata": {},
   "source": [
    "### 步骤2 克隆远程仓库至本地\n",
    "\n",
    "假设已在GitHub上新建了一个名为\"DaSE_IntroCourse\"的仓库\n",
    "\n",
    "登录至GitHub并进入个人主页，单击\"DaSE_IntroCourse\"仓库\n",
    "\n",
    "在仓库\"Quick Setup\"提示界面中复制代码仓库地址\n",
    "\n",
    "![代码仓库地址](img/Lab01-3-1.png)\n",
    "\n",
    "启动ConEmu，通过`cd`命令切换至你想存放代码的文件夹\n",
    "\n",
    "输入`git clone `（注意clone后再输入一个空格）后**不要按**回车，在命令行界面按一下鼠标右键即可粘贴刚才复制的地址，然后再按下回车键，开始克隆远程仓库至本地"
   ]
  },
  {
   "cell_type": "markdown",
   "metadata": {},
   "source": [
    "### 步骤3 提交第一份代码\n",
    "\n",
    "通过`cd`命令进入代码仓库文件夹，然后输入`code .`启动Visual Studio Code，新建一个简单的Python程序文件并保存（假设文件名为hello.py)\n",
    "\n",
    "返回命令行窗口，输入`git add hello.py`后回车，将Python程序文件加入“暂存区域”\n",
    "\n",
    "输入`git commit -m \"Add the hello.py file.\"`（`-m` 参数后引号内的内容为提交注释，可根据实际情况自定义注释）后回车，将程序文件正式提交至版本仓库中"
   ]
  },
  {
   "cell_type": "markdown",
   "metadata": {},
   "source": [
    "### 步骤4 推送至远程仓库\n",
    "\n",
    "不过目前最新的版本仓库仍在我们本地主机，为了以后供多人协作和代码备份，我们需要将本地仓库推送（Push）至远程仓库GitHub中\n",
    "\n",
    "在命令行中输入`git push`后回车，将本地仓库推送至GitHub\n",
    "\n",
    "> 可能会弹出登录GitHub的窗口，输入GitHub账号和密码后登录即可\n",
    "\n",
    "通过浏览器登录至GitHub并进入仓库查看，发现GitHub中保存了刚才新建的hello.py文件及版本注释内容\n",
    "\n",
    "![GitHub已同步](img/Lab01-3-2.png)"
   ]
  },
  {
   "cell_type": "markdown",
   "metadata": {},
   "source": [
    "***"
   ]
  },
  {
   "cell_type": "markdown",
   "metadata": {},
   "source": [
    "## 本周任务"
   ]
  },
  {
   "cell_type": "markdown",
   "metadata": {},
   "source": [
    "* 在自己的电脑中完成环境配置\n",
    "* 创建一个GitHub账号并新建一个仓库\n",
    "* 登录KFCoding平台，熟悉实训平台环境\n",
    "* 完成KFCoding平台的《Git版本控制》课程的学习\n",
    "* 完成Python语言的[入门课程](https://github.com/selfteaching/the-craft-of-selfteaching)"
   ]
  },
  {
   "cell_type": "code",
   "execution_count": null,
   "metadata": {},
   "outputs": [],
   "source": []
  }
 ],
 "metadata": {
  "kernelspec": {
   "display_name": "Python 3",
   "language": "python",
   "name": "python3"
  },
  "language_info": {
   "codemirror_mode": {
    "name": "ipython",
    "version": 3
   },
   "file_extension": ".py",
   "mimetype": "text/x-python",
   "name": "python",
   "nbconvert_exporter": "python",
   "pygments_lexer": "ipython3",
   "version": "3.7.4"
  }
 },
 "nbformat": 4,
 "nbformat_minor": 4
}
