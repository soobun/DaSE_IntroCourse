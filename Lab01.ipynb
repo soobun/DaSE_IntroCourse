{
 "cells": [
  {
   "cell_type": "markdown",
   "metadata": {},
   "source": [
    "# 实验课 01"
   ]
  },
  {
   "cell_type": "markdown",
   "metadata": {},
   "source": [
    "## 实验1-1 GitHub的初始化"
   ]
  },
  {
   "cell_type": "markdown",
   "metadata": {},
   "source": [
    "### 步骤1 注册并登录GitHub\n",
    "\n",
    "用浏览器打开 [GitHub](https://github.com)。\n",
    "\n",
    "如果还没有GitHub账户，请点击右上角的Sign up按钮，注册一个新账号。\n",
    "\n",
    "然后登录GitHub账号。"
   ]
  },
  {
   "cell_type": "markdown",
   "metadata": {},
   "source": [
    "### 步骤2 新建一个仓库\n",
    "\n",
    "单击左侧的New按钮，新建仓库。\n",
    "\n",
    "![新建仓库按钮](img/Lab01-1-1.png)\n",
    "\n",
    "在新建仓库页面的\"Repository name\"中输入仓库名称，其他保持默认选项，单击下方的\"Create repository\"按钮，完成新建仓库。\n",
    "\n",
    "![新建仓库](img/Lab01-1-2.png)"
   ]
  },
  {
   "cell_type": "markdown",
   "metadata": {},
   "source": [
    "***"
   ]
  },
  {
   "cell_type": "markdown",
   "metadata": {},
   "source": [
    "## 实验1-2 配置编程环境"
   ]
  },
  {
   "cell_type": "markdown",
   "metadata": {},
   "source": [
    "### 步骤1 确认系统架构\n",
    "\n",
    "按下Win+R键，弹出“运行”窗口，在“打开”输入框中输入`cmd`后回车，启动命令提示符。\n",
    "\n",
    "在命令行界面输入`wmic OS get OSArchitecture`后回车，记录操作系统的架构是32位还是64位"
   ]
  },
  {
   "cell_type": "markdown",
   "metadata": {},
   "source": [
    "### 步骤2 下载并安装Anaconda"
   ]
  },
  {
   "cell_type": "markdown",
   "metadata": {},
   "source": [
    "Anaconda是一个免费开源的Python和R语言的发行版本，用于计算科学（数据科学、机器学习、大数据处理和预测分析），Anaconda致力于简化包管理和部署。Anaconda的包使用的是软件包管理系统Conda进行管理。\n",
    "\n",
    "浏览器打开[Anaconda的主页](https://www.anaconda.com/)，并在上方Product中单击Individual Edition。\n",
    "\n",
    "![Anaconda1](img/Lab01-2-1.png)\n",
    "\n",
    "将页面滚动至最下方，根据**步骤1**记录的操作系统架构选择合适的版本下载安装包，下载完成后运行安装程序，一路点击下一步即可。"
   ]
  },
  {
   "cell_type": "markdown",
   "metadata": {},
   "source": [
    "### 步骤3 Anaconda-切换默认下载源"
   ]
  },
  {
   "cell_type": "markdown",
   "metadata": {},
   "source": [
    "当通过Anaconda安装第三方库的时候，默认是从Anaconda国外的服务器下载安装包并进行安装。我们可以通过修改默认源，让Anaconda从清华大学的镜像站中下载安装包，这样就可以节省很多时间。\n",
    "\n",
    "打开开始菜单，然后打开`Anaconda3(64-bit)`的文件夹，然后单击`Anaconda Powershell Prompt (anaconda3)`，启动命令行模式的Anaconda。\n",
    "\n",
    "![Anaconda2](img/Lab01-2-2.jpg)\n",
    "\n",
    "在命令行中分别输入这三行语句，输入完一行语句后按一下回车以执行。\n",
    ">`conda config --add channels https://mirrors.tuna.tsinghua.edu.cn/anaconda/pkgs/free`\n",
    ">\n",
    ">`conda config --add channels https://mirrors.tuna.tsinghua.edu.cn/anaconda/pkgs/main`\n",
    ">\n",
    ">`conda config --set show_channel_urls yes`"
   ]
  },
  {
   "cell_type": "markdown",
   "metadata": {},
   "source": [
    "### 步骤4 Anaconda-创建新环境"
   ]
  },
  {
   "cell_type": "markdown",
   "metadata": {},
   "source": [
    "Anaconda支持创建多个虚拟环境，这样方便我们管理多个版本的Python环境，例如我们玩图像处理时可能需要安装大量的深度学习框架，但是进行简单的数据分析时就没必要加载这些库，我们可以轻松地切换环境以适应实际问题解决的需要（类似于手机的双卡双待，生活一个号工作一个号）。\n",
    "\n",
    "启动Anaconda Powershell Prompt，在命令行我们可以看到最前方有`(base)`字样，这代表我们目前处于base环境下。\n",
    "\n",
    "现在我们创建一个新环境，名称为test，安装python的版本是3.8。\n",
    "\n",
    "在命令行中输入`conda create -n test python=3.8`，按回车键执行。\n",
    "\n",
    "系统稍后会列出将要安装的库名称及下载源，直接按回车键开始下载并自动安装。\n",
    "\n",
    "![conda_create](img/Lab01-2-3.png)"
   ]
  },
  {
   "cell_type": "markdown",
   "metadata": {},
   "source": [
    "### 步骤5 Anaconda-查看环境列表及切换环境"
   ]
  },
  {
   "cell_type": "markdown",
   "metadata": {},
   "source": [
    "在命令行输入`conda info -e`后回车，系统会列出当前电脑已安装的环境列表。\n",
    "\n",
    "现在我们切换至刚才新建的test环境，准备安装Jupyter。\n",
    "\n",
    "输入`conda activate test`后回车，我们看到命令行最前端字样已变成`(test)`，这说明我们已经成功切换至test环境。\n",
    "\n",
    "> 如果想删除一个环境，请输入`conda remove -n test --all`，这样就会删除test环境及环境中所有的库，操作需谨慎！"
   ]
  },
  {
   "cell_type": "markdown",
   "metadata": {},
   "source": [
    "### 步骤6 Anaconda-安装Jupyter"
   ]
  },
  {
   "cell_type": "markdown",
   "metadata": {},
   "source": [
    "我们以后的实验代码都是在Jupyter Notebook上编写并调试，它具有良好的交互式界面。\n",
    "\n",
    "首先使用`conda list`命令查看当前环境中所有已经安装的库。\n",
    "\n",
    "命令行切换至test环境后，输入`conda install jupyterlab`后回车安装。\n",
    "\n",
    "安装完成后，测试一下是否能够运行Jupyter。\n",
    "\n",
    "通过Windows资源管理器在D盘或者其他盘新建一个文件夹，以后可以把自己写的代码都放在里面。假设我们在D盘新建了一个mycode的文件夹。\n",
    "\n",
    "在命令行中首先输入`D:`切换至D盘，然后输入`cd mycode`后回车，将命令行当前目录切换为mycode。\n",
    "\n",
    "在命令行中输入`jupyter lab`后回车，稍等一下会自动启动浏览器，显示如下界面，说明你的编程环境安装成功了，你可以新建一个Notebook写一个Hello World程序。\n",
    "\n",
    "![Jupyter](img/Lab01-2-4.png)"
   ]
  },
  {
   "cell_type": "markdown",
   "metadata": {},
   "source": [
    "### 步骤7 安装Git（可选）"
   ]
  },
  {
   "cell_type": "markdown",
   "metadata": {},
   "source": [
    "在[下载页面](https://git-scm.com/downloads)中选择合适的版本下载安装包并运行安装程序。"
   ]
  },
  {
   "cell_type": "markdown",
   "metadata": {},
   "source": [
    "***"
   ]
  },
  {
   "cell_type": "markdown",
   "metadata": {},
   "source": [
    "## 实验1-3 Git初试（选做）"
   ]
  },
  {
   "cell_type": "markdown",
   "metadata": {},
   "source": [
    "### 步骤1 设置个人信息\n",
    "\n",
    "在多人协作开发中需要明确代码编辑者的信息，所以在使用Git前我们首先设置一下自己的个人信息\n",
    "\n",
    "启动Git Bash，输入`git config --global user.name \"Your Name\"`后回车（其中引号内的Your Name替换成你的英文名）\n",
    "\n",
    "然后再输入`git config --global user.email your_email@xyz.com`后回车（替换为你的电子邮箱地址）"
   ]
  },
  {
   "cell_type": "markdown",
   "metadata": {},
   "source": [
    "### 步骤2 克隆远程仓库至本地\n",
    "\n",
    "假设已在GitHub上新建了一个名为\"DaSE_IntroCourse\"的仓库\n",
    "\n",
    "登录至GitHub并进入个人主页，单击\"DaSE_IntroCourse\"仓库\n",
    "\n",
    "在仓库\"Quick Setup\"提示界面中复制代码仓库地址\n",
    "\n",
    "![代码仓库地址](img/Lab01-3-1.png)\n",
    "\n",
    "启动Git Bash，通过`cd`命令切换至你想存放代码的文件夹\n",
    "\n",
    "输入`git clone `（注意clone后再输入一个空格）后**不要按**回车，在命令行界面按一下鼠标右键即可粘贴刚才复制的地址，然后再按下回车键，开始克隆远程仓库至本地"
   ]
  },
  {
   "cell_type": "markdown",
   "metadata": {},
   "source": [
    "### 步骤3 提交第一份代码\n",
    "\n",
    "通过`cd`命令进入代码仓库文件夹，然后输入`code .`启动Visual Studio Code，新建一个简单的Python程序文件并保存（假设文件名为hello.py)\n",
    "\n",
    "返回命令行窗口，输入`git add hello.py`后回车，将Python程序文件加入“暂存区域”\n",
    "\n",
    "输入`git commit -m \"Add the hello.py file.\"`（`-m` 参数后引号内的内容为提交注释，可根据实际情况自定义注释）后回车，将程序文件正式提交至版本仓库中"
   ]
  },
  {
   "cell_type": "markdown",
   "metadata": {},
   "source": [
    "### 步骤4 推送至远程仓库\n",
    "\n",
    "不过目前最新的版本仓库仍在我们本地主机，为了以后供多人协作和代码备份，我们需要将本地仓库推送（Push）至远程仓库GitHub中\n",
    "\n",
    "在命令行中输入`git push`后回车，将本地仓库推送至GitHub\n",
    "\n",
    "> 可能会弹出登录GitHub的窗口，输入GitHub账号和密码后登录即可\n",
    "\n",
    "通过浏览器登录至GitHub并进入仓库查看，发现GitHub中保存了刚才新建的hello.py文件及版本注释内容\n",
    "\n",
    "![GitHub已同步](img/Lab01-3-2.png)"
   ]
  },
  {
   "cell_type": "markdown",
   "metadata": {},
   "source": [
    "***"
   ]
  },
  {
   "cell_type": "markdown",
   "metadata": {},
   "source": [
    "## 实验练习01"
   ]
  },
  {
   "cell_type": "markdown",
   "metadata": {},
   "source": [
    "1. 在自己的电脑中完成环境配置\n",
    "2. 创建一个GitHub账号并新建一个仓库\n",
    "3. 完成Python语言的[入门课程](https://github.com/selfteaching/the-craft-of-selfteaching)"
   ]
  }
 ],
 "metadata": {
  "kernelspec": {
   "display_name": "Python 3",
   "language": "python",
   "name": "python3"
  },
  "language_info": {
   "codemirror_mode": {
    "name": "ipython",
    "version": 3
   },
   "file_extension": ".py",
   "mimetype": "text/x-python",
   "name": "python",
   "nbconvert_exporter": "python",
   "pygments_lexer": "ipython3",
   "version": "3.7.9"
  }
 },
 "nbformat": 4,
 "nbformat_minor": 4
}
