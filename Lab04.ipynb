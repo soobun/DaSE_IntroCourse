{
 "cells": [
  {
   "cell_type": "markdown",
   "metadata": {},
   "source": [
    "# 实验课 04"
   ]
  },
  {
   "cell_type": "markdown",
   "metadata": {},
   "source": [
    "## 实验4-1 插入排序"
   ]
  },
  {
   "cell_type": "markdown",
   "metadata": {},
   "source": [
    "插入排序（Insertion Sort）是一种简单直观的排序算法。它的工作原理是通过构建有序序列，对于未排序数据，在已排序序列中从后向前扫描，找到相应位置并插入。\n",
    "\n",
    "一般来说，插入排序都采用in-place在数组上实现。具体算法描述如下：\n",
    "\n",
    "1. 从第一个元素开始，该元素可以认为已经被排序\n",
    "2. 取出下一个元素，在已经排序的元素序列中从后向前扫描\n",
    "3. 如果该元素（已排序）大于新元素，将该元素移到下一位置\n",
    "4. 重复步骤3，直到找到已排序的元素小于或者等于新元素的位置\n",
    "5. 将新元素插入到该位置后\n",
    "6. 重复步骤2~5\n",
    "\n",
    "我们用Python尝试实现插入排序的算法，并给出一个小规模的数组进行测试。"
   ]
  },
  {
   "cell_type": "code",
   "execution_count": null,
   "metadata": {},
   "outputs": [],
   "source": [
    "def insertion_sort(arr):\n",
    "    for i in range(1,len(arr)):  # 下标为0元素视作有序，所以从下标为1的元素开始排序（步骤1，步骤6）\n",
    "        origin = arr[i]\n",
    "        j = i\n",
    "        while j > 0:  # 从后向前扫描（步骤2）\n",
    "            if arr[j-1]>origin:  # 如果有序的某元素大于待排序元素，则该元素向后移动一个位置（步骤3）\n",
    "                arr[j]=arr[j-1]\n",
    "            else:  # 否则变量j的值就是待排序元素的插入位置（步骤4）\n",
    "                break\n",
    "            j -= 1\n",
    "        arr[j]=origin  # 如果用内部循环采用for形式，一定要预先定义j的值，否则此语句中j的值未知"
   ]
  },
  {
   "cell_type": "code",
   "execution_count": null,
   "metadata": {},
   "outputs": [],
   "source": [
    "arr_1 = [7,9,0,-1,6,4,3,1,2,5]\n",
    "insertion_sort(arr_1)\n",
    "print(arr_1)"
   ]
  },
  {
   "cell_type": "markdown",
   "metadata": {},
   "source": [
    "我们用一个小动画帮助大家理解插入排序的执行过程。\n",
    "\n",
    "![InsertSort](img/Lab04-1-1.gif)"
   ]
  },
  {
   "cell_type": "markdown",
   "metadata": {},
   "source": [
    "***"
   ]
  },
  {
   "cell_type": "markdown",
   "metadata": {},
   "source": [
    "## 实验4-2 选择排序"
   ]
  },
  {
   "cell_type": "markdown",
   "metadata": {},
   "source": [
    "选择排序（Selection Sort）是一种简单直观的排序算法。它的工作原理如下。首先在未排序序列中找到最小（大）元素，存放到排序序列的起始位置，然后，再从剩余未排序元素中继续寻找最小（大）元素，然后放到已排序序列的末尾。以此类推，直到所有元素均排序完毕。\n",
    "\n",
    "![SelectSort](img/Lab04-2-1.gif)"
   ]
  },
  {
   "cell_type": "code",
   "execution_count": null,
   "metadata": {},
   "outputs": [],
   "source": [
    "def selection_sort(arr):\n",
    "    for i in range(len(arr)-1):  # 如果前n-1个元素已经有序，则整体也已经有序，否则内部循环变量j会越界\n",
    "        minIndex=i\n",
    "        for j in range(i+1,len(arr)):\n",
    "            if arr[minIndex]>arr[j]:\n",
    "                minIndex=j\n",
    "        if i!=minIndex:\n",
    "            arr[i],arr[minIndex]=arr[minIndex],arr[i]  # 将后未排序元素中的最小值移动至已排序元素的末尾"
   ]
  },
  {
   "cell_type": "code",
   "execution_count": null,
   "metadata": {},
   "outputs": [],
   "source": [
    "arr_2 = [7,9,0,-1,6,4,3,1,2,5]\n",
    "selection_sort(arr_2)\n",
    "print(arr_2)"
   ]
  },
  {
   "cell_type": "markdown",
   "metadata": {},
   "source": [
    "***"
   ]
  },
  {
   "cell_type": "markdown",
   "metadata": {},
   "source": [
    "## 实验4-3 快速排序"
   ]
  },
  {
   "cell_type": "markdown",
   "metadata": {},
   "source": [
    "快速排序（Quick Sort），又称分区交换排序（Partition-exchange Sort），简称快排，一种排序算法，最早由[东尼·霍尔](https://zh.wikipedia.org/wiki/%E6%9D%B1%E5%B0%BC%C2%B7%E9%9C%8D%E7%88%BE)提出。在平均状况下，排序$n$个项目要$O(n\\ log \\ n)$次比较，在最坏情况下需要$O(n^2)$次比较。\n",
    "\n",
    "快速排序使用分治策略来把一个序列分为较小和较大的两个子序列，然后递归地排序两个子序列。\n",
    "\n",
    "步骤为：\n",
    "\n",
    "1. 挑选基准值：从数列中挑出一个元素，称为“基准”（pivot）\n",
    "2. 分割：重新排序数列，所有比基准值小的元素摆放在基准前面，所有比基准值大的元素摆在基准后面（与基准值相等的数可以到任何一边）。在这个分割结束之后，对基准值的排序就已经完成，\n",
    "3. 递归排序子序列：递归地将小于基准值元素的子序列和大于基准值元素的子序列排序。\n",
    "\n",
    "递归到最底部的判断条件是数列的大小是零或一，此时该数列显然已经有序。"
   ]
  },
  {
   "cell_type": "code",
   "execution_count": null,
   "metadata": {},
   "outputs": [],
   "source": []
  }
 ],
 "metadata": {
  "kernelspec": {
   "display_name": "Python 3",
   "language": "python",
   "name": "python3"
  },
  "language_info": {
   "codemirror_mode": {
    "name": "ipython",
    "version": 3
   },
   "file_extension": ".py",
   "mimetype": "text/x-python",
   "name": "python",
   "nbconvert_exporter": "python",
   "pygments_lexer": "ipython3",
   "version": "3.7.4"
  }
 },
 "nbformat": 4,
 "nbformat_minor": 4
}
