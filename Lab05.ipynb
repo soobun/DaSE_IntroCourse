{
 "cells": [
  {
   "cell_type": "markdown",
   "metadata": {},
   "source": [
    "# 实验课 05"
   ]
  },
  {
   "cell_type": "markdown",
   "metadata": {},
   "source": [
    "## 实验5-1 Python中的日期与时间"
   ]
  },
  {
   "cell_type": "markdown",
   "metadata": {},
   "source": [
    "下载文件时我们最盼望的就是**进度条走得快一点！！！**\n",
    "\n",
    "![ProcessBar](img/Lab05-1-1.gif)\n",
    "\n",
    "下面这段代码就是用Python编写一个模拟进度条的小程序，你可以尝试运行一下并阅读代码。 *(代码摘自[菜鸟教程](https://www.runoob.com/python3/python3-date-time.html))*"
   ]
  },
  {
   "cell_type": "code",
   "execution_count": null,
   "metadata": {},
   "outputs": [],
   "source": [
    "import time\n",
    "\n",
    "scale = 50 \n",
    "\n",
    "print(\"执行开始\".center(scale//2,\"-\"))  # .center() 控制输出的样式，宽度为 25//2，即 22，汉字居中，两侧填充 -\n",
    "\n",
    "start = time.perf_counter() # 调用一次 perf_counter()，从计算机系统里随机选一个时间点A，计算其距离当前时间点B1有多少秒。当第二次调用该函数时，默认从第一次调用的时间点A算起，距离当前时间点B2有多少秒。两个函数取差，即实现从时间点B1到B2的计时功能。\n",
    "for i in range(scale+1):   \n",
    "    a = '*' * i             # i 个长度的 * 符号\n",
    "    b = '.' * (scale-i)  # scale-i） 个长度的 . 符号。符号 * 和 . 总长度为50 \n",
    "    c = (i/scale)*100  # 显示当前进度，百分之多少\n",
    "    dur = time.perf_counter() - start    # 计时，计算进度条走到某一百分比的用时\n",
    "    print(\"\\r{:^3.0f}%[{}->{}]{:.2f}s\".format(c,a,b,dur),end='')  # \\r用来在每次输出完成后，将光标移至行首，这样保证进度条始终在同一行输出，即在一行不断刷新的效果；{:^3.0f}，输出格式为居中，占3位，小数点后0位，浮点型数，对应输出的数为c；{}，对应输出的数为a；{}，对应输出的数为b；{:.2f}，输出有两位小数的浮点数，对应输出的数为dur；end=''，用来保证不换行，不加这句默认换行。\n",
    "    time.sleep(0.1)     # 在输出下一个百分之几的进度前，停止0.1秒\n",
    "print(\"\\n\"+\"执行结束\".center(scale//2,'-'))"
   ]
  },
  {
   "cell_type": "markdown",
   "metadata": {},
   "source": [
    "### 步骤1 获取日期时间"
   ]
  },
  {
   "cell_type": "markdown",
   "metadata": {},
   "source": [
    "获取当前时间的最简单方式就是使用time库中的`time()`方法。\n",
    "\n",
    "别忘了首先导入time库。"
   ]
  },
  {
   "cell_type": "code",
   "execution_count": null,
   "metadata": {},
   "outputs": [],
   "source": [
    "import time\n",
    "t1 = time.time()\n",
    "print(t1)"
   ]
  },
  {
   "cell_type": "markdown",
   "metadata": {},
   "source": [
    "运行结果并不是我们熟悉的例如08:32:15这种形式，实际上直接使用`time()`方法返回的是当前时刻与**1970年1月1日0时0分0秒**的差距秒数。\n",
    "\n",
    "可能你曾听说过“[**千年虫**](https://zh.wikipedia.org/wiki/2000%E5%B9%B4%E9%97%AE%E9%A2%98)”问题，不过接下来十几年在计算机方面人们可能需要关心的是[**2038问题**](https://zh.wikipedia.org/wiki/2038%E5%B9%B4%E9%97%AE%E9%A2%98)，你可以点击这两个维基百科的链接看一下计算机与时间的爱恨情仇。\n",
    "\n",
    "刚才我们看到的时间显示方式并不太友好，我们可以使用下面的一些方法来获得以符合人们阅读习惯的方式的时间。"
   ]
  },
  {
   "cell_type": "code",
   "execution_count": null,
   "metadata": {},
   "outputs": [],
   "source": [
    "t2 = time.localtime()\n",
    "print(t2)"
   ]
  },
  {
   "cell_type": "markdown",
   "metadata": {},
   "source": [
    "现在看来大概能看出当前日期和时间，不过我们还可以以更友好地方式显示时间！"
   ]
  },
  {
   "cell_type": "markdown",
   "metadata": {},
   "source": [
    "### 步骤2 休眠"
   ]
  },
  {
   "cell_type": "code",
   "execution_count": null,
   "metadata": {},
   "outputs": [],
   "source": []
  }
 ],
 "metadata": {
  "kernelspec": {
   "display_name": "Python 3",
   "language": "python",
   "name": "python3"
  },
  "language_info": {
   "codemirror_mode": {
    "name": "ipython",
    "version": 3
   },
   "file_extension": ".py",
   "mimetype": "text/x-python",
   "name": "python",
   "nbconvert_exporter": "python",
   "pygments_lexer": "ipython3",
   "version": "3.7.4"
  }
 },
 "nbformat": 4,
 "nbformat_minor": 4
}
