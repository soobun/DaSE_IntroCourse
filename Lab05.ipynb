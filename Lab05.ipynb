{
 "cells": [
  {
   "cell_type": "markdown",
   "metadata": {},
   "source": [
    "# 实验课 05"
   ]
  },
  {
   "cell_type": "markdown",
   "metadata": {},
   "source": [
    "## 实验5-1 Python中的日期与时间"
   ]
  },
  {
   "cell_type": "markdown",
   "metadata": {},
   "source": [
    "下载文件时我们最盼望的就是**进度条走得快一点！！！**\n",
    "\n",
    "![ProcessBar](img/Lab05-1-1.gif)\n",
    "\n",
    "下面这段代码就是用Python编写一个模拟进度条的小程序，你可以尝试运行一下并阅读代码。 *(代码摘自[菜鸟教程](https://www.runoob.com/python3/python3-date-time.html))*"
   ]
  },
  {
   "cell_type": "code",
   "execution_count": null,
   "metadata": {},
   "outputs": [],
   "source": [
    "import time\n",
    "\n",
    "scale = 50 \n",
    "\n",
    "print(\"执行开始\".center(scale//2,\"-\"))  # .center() 控制输出的样式，宽度为 25//2，即 22，汉字居中，两侧填充 -\n",
    "\n",
    "start = time.perf_counter() # 调用一次 perf_counter()，从计算机系统里随机选一个时间点A，计算其距离当前时间点B1有多少秒。当第二次调用该函数时，默认从第一次调用的时间点A算起，距离当前时间点B2有多少秒。两个函数取差，即实现从时间点B1到B2的计时功能。\n",
    "for i in range(scale+1):   \n",
    "    a = '*' * i             # i 个长度的 * 符号\n",
    "    b = '.' * (scale-i)  # scale-i） 个长度的 . 符号。符号 * 和 . 总长度为50 \n",
    "    c = (i/scale)*100  # 显示当前进度，百分之多少\n",
    "    dur = time.perf_counter() - start    # 计时，计算进度条走到某一百分比的用时\n",
    "    print(\"\\r{:^3.0f}%[{}->{}]{:.2f}s\".format(c,a,b,dur),end='')  # \\r用来在每次输出完成后，将光标移至行首，这样保证进度条始终在同一行输出，即在一行不断刷新的效果；{:^3.0f}，输出格式为居中，占3位，小数点后0位，浮点型数，对应输出的数为c；{}，对应输出的数为a；{}，对应输出的数为b；{:.2f}，输出有两位小数的浮点数，对应输出的数为dur；end=''，用来保证不换行，不加这句默认换行。\n",
    "    time.sleep(0.1)     # 在输出下一个百分之几的进度前，停止0.1秒\n",
    "print(\"\\n\"+\"执行结束\".center(scale//2,'-'))"
   ]
  },
  {
   "cell_type": "markdown",
   "metadata": {},
   "source": [
    "### 步骤1 获取日期时间"
   ]
  },
  {
   "cell_type": "markdown",
   "metadata": {},
   "source": [
    "获取当前时间的最简单方式就是使用time库中的`time()`方法。\n",
    "\n",
    "别忘了首先导入time库。"
   ]
  },
  {
   "cell_type": "code",
   "execution_count": null,
   "metadata": {},
   "outputs": [],
   "source": [
    "import time\n",
    "t1 = time.time()\n",
    "print(t1)"
   ]
  },
  {
   "cell_type": "markdown",
   "metadata": {},
   "source": [
    "运行结果并不是我们熟悉的例如08:32:15这种形式，实际上直接使用`time()`方法返回的是当前时刻与**1970年1月1日0时0分0秒**的差距秒数。\n",
    "\n",
    "可能你曾听说过“[**千年虫**](https://zh.wikipedia.org/wiki/2000%E5%B9%B4%E9%97%AE%E9%A2%98)”问题，不过接下来十几年在计算机方面人们可能需要关心的是[**2038问题**](https://zh.wikipedia.org/wiki/2038%E5%B9%B4%E9%97%AE%E9%A2%98)，你可以点击这两个维基百科的链接看一下计算机与时间的爱恨情仇。\n",
    "\n",
    "刚才我们看到的时间显示方式并不太友好，我们可以使用下面的一些方法来获得以符合人们阅读习惯的方式的时间。"
   ]
  },
  {
   "cell_type": "code",
   "execution_count": null,
   "metadata": {},
   "outputs": [],
   "source": [
    "t2 = time.localtime()\n",
    "print(t2)"
   ]
  },
  {
   "cell_type": "markdown",
   "metadata": {},
   "source": [
    "现在看来大概能看出当前日期和时间，不过返回的是一个“打散”的元组，可以供我们单独提取年、月、日等信息使用。\n",
    "\n",
    "我们还可以以更友好地方式显示时间！"
   ]
  },
  {
   "cell_type": "code",
   "execution_count": null,
   "metadata": {},
   "outputs": [],
   "source": [
    "t3 = time.asctime(time.localtime())\n",
    "print(t3)"
   ]
  },
  {
   "cell_type": "markdown",
   "metadata": {},
   "source": [
    "这看起来舒服多了，效果就像是一些网页头部显示的当前时间。\n",
    "\n",
    "当然我们可以自定义各部分的输出顺序！"
   ]
  },
  {
   "cell_type": "code",
   "execution_count": null,
   "metadata": {},
   "outputs": [],
   "source": [
    "t4 = time.strftime(\"%Y/%m/%d %H:%M:%S\",time.localtime())\n",
    "print(t4)"
   ]
  },
  {
   "cell_type": "markdown",
   "metadata": {},
   "source": [
    "> 小结一下我们刚才使用到的time库中的常用方法：\n",
    "> * `time()` 获取UNIX时间\n",
    "> * `localtime()` 获取当前时刻的结构化元组\n",
    "> * `asctime()` 获取格式化的时间\n",
    "> * `strftime()` 返回自定义格式的时间字符串"
   ]
  },
  {
   "cell_type": "markdown",
   "metadata": {},
   "source": [
    "### 步骤2 休眠"
   ]
  },
  {
   "cell_type": "markdown",
   "metadata": {},
   "source": [
    "刚才的模拟进度条小程序中有一行代码`time.sleep(0.1)`\n",
    "\n",
    "你可以把该行代码注释掉，然后再次运行该小程序，你会发现进度条瞬间抵达终点。\n",
    "\n",
    "我们知道目前计算机运行速度极快，有的时候需要让计算机主动“等一等”我们。\n",
    "\n",
    "time库中提供了`sleep()`方法让当前线程推迟运行。该方法需要的参数为推迟运行的时间，单位为秒，当然你也可以推迟运行小于1秒的时间，不过受机器精度限制建议最小延迟时间为50ms。"
   ]
  },
  {
   "cell_type": "code",
   "execution_count": null,
   "metadata": {},
   "outputs": [],
   "source": [
    "print('当前时间为：',time.asctime())\n",
    "time.sleep(3)  # 命令线程延迟运行3秒\n",
    "print('当前时间为：',time.asctime())"
   ]
  },
  {
   "cell_type": "markdown",
   "metadata": {},
   "source": [
    "***"
   ]
  },
  {
   "cell_type": "markdown",
   "metadata": {},
   "source": [
    "## 实验5-2 程序性能测试"
   ]
  },
  {
   "cell_type": "markdown",
   "metadata": {},
   "source": [
    "**时间就是金钱！** 如何评测计算机程序的运行效率呢？\n",
    "\n",
    "一方面，计算机芯片制造商研发出的CPU和GPU性能越来越强，对于同一款大型程序在不同架构的处理器上运行，运行时间会有些许差异，衡量处理器运行性能的常见计量单位是IPS（每秒指令）和FLOPS（每秒浮点运算指令），此外[TOP500](https://www.top500.org/)是针对全球已知最强大的超级计算机系统做出排名与详细介绍的项目。\n",
    "\n",
    "另一方面，算法设计也是影响计算机程序运行效率的重要因素，前面我们学习了一些**排序算法**，不同的算法有着不同的时间复杂度。小规模的数组排序可能看不出算法运行效率之间的差别，我们需要利用大规模的数据来测试不同算法之间的效率差异。\n",
    "\n",
    "首先我们导入random和time两个库，并且编写插入排序和快速排序两个函数，然后利用随机数生成一个长度为10,000的数组。"
   ]
  },
  {
   "cell_type": "code",
   "execution_count": null,
   "metadata": {},
   "outputs": [],
   "source": [
    "import random\n",
    "import time\n",
    "\n",
    "\n",
    "def insertion_sort(arr):\n",
    "    for i in range(1,len(arr)):  # 下标为0元素视作有序，所以从下标为1的元素开始排序（步骤1，步骤6）\n",
    "        origin = arr[i]\n",
    "        j = i\n",
    "        while j > 0:  # 从后向前扫描（步骤2）\n",
    "            if arr[j-1]>origin:  # 如果有序的某元素大于待排序元素，则该元素向后移动一个位置（步骤3）\n",
    "                arr[j]=arr[j-1]\n",
    "            else:  # 否则变量j的值就是待排序元素的插入位置（步骤4）\n",
    "                break\n",
    "            j -= 1\n",
    "        arr[j]=origin  # 如果用内部循环采用for形式，一定要预先定义j的值，否则此语句中j的值未知\n",
    "\n",
    "\n",
    "def quick_sort(arr,left,right):\n",
    "    if left>=right:\n",
    "        return\n",
    "    pivot = arr[left]\n",
    "    i = left\n",
    "    j = right\n",
    "    while i<j:\n",
    "        while i<j and arr[j]>=pivot:\n",
    "            j -= 1\n",
    "        arr[i] = arr[j]\n",
    "        while i<j and arr[i]<pivot:\n",
    "            i += 1\n",
    "        arr[j] = arr[i]\n",
    "    arr[i] = pivot\n",
    "    quick_sort(arr,left,i-1)\n",
    "    quick_sort(arr,i+1,right)\n",
    "    \n",
    "\n",
    "arr1 = []\n",
    "for i in range(10000):\n",
    "    arr1.append(random.random())\n",
    "arr2 = arr1.copy()"
   ]
  },
  {
   "cell_type": "markdown",
   "metadata": {},
   "source": [
    "接下来我们使用time库中`perf_counter()`方法计算两个排序算法的执行时间。"
   ]
  },
  {
   "cell_type": "code",
   "execution_count": null,
   "metadata": {},
   "outputs": [],
   "source": [
    "t_a = time.perf_counter()\n",
    "insertion_sort(arr1)\n",
    "t_b = time.perf_counter()\n",
    "print(t_b - t_a)"
   ]
  },
  {
   "cell_type": "code",
   "execution_count": null,
   "metadata": {},
   "outputs": [],
   "source": [
    "t_a = time.perf_counter()\n",
    "quick_sort(arr2,0,len(arr2)-1)\n",
    "t_b = time.perf_counter()\n",
    "print(t_b - t_a)"
   ]
  },
  {
   "cell_type": "markdown",
   "metadata": {},
   "source": [
    "两种算法的执行效率高下立判！插入排序的平均时间复杂度为$O(n^2)$，而快速排序的平均时间复杂度为$O(n\\ log \\ n)$.\n",
    "\n",
    "`perf_counter()`方法返回计时器的精准时间（系统的运行时间），包含整个系统的睡眠时间，具有最高的可用分辨率。由于返回值的基准点是未定义的，所以，只有连续调用的结果之间的差才是有效的。\n",
    "\n",
    "此外，`process_time()`方法返回当前进程执行 CPU 的时间总和，**不包含睡眠时间**。由于返回值的基准点是未定义的，所以，只有连续调用的结果之间的差才是有效的。\n",
    "\n",
    "当然，该例只是粗略计算程序运行时间，实际运行时还要考虑快速排序中递归调用带来的影响等客观因素。"
   ]
  },
  {
   "cell_type": "markdown",
   "metadata": {},
   "source": [
    "***"
   ]
  },
  {
   "cell_type": "markdown",
   "metadata": {},
   "source": [
    "## 实验5-3 Python多线程初步"
   ]
  },
  {
   "cell_type": "markdown",
   "metadata": {},
   "source": [
    "2000年左右，互联网在内地还处于初始发展阶段，家庭用户大都以ADSL方式拨号上网。下载速度最高也就400多KB每秒（在今天可以通过某度云下载文件重温当年的下载速率）。当时IE浏览器使用的是单线程下载，不过网络上也出现了很多下载工具，例如快车、网络蚂蚁等等，这些软件通过把文件分成多段，并发下载以提高下载速度。\n",
    "\n",
    "![NetAnts](img/Lab05-3-1.jpg)\n",
    "\n",
    "这就好比一群蚂蚁同时搬运物资一样，单位时间可以得到多倍的资源。\n",
    "\n",
    "在Python中有一个threading的库，可以创建线程类并实例化线程对象运行。现在我们写一个运行两个线程进行报时的小程序。"
   ]
  },
  {
   "cell_type": "code",
   "execution_count": null,
   "metadata": {},
   "outputs": [],
   "source": [
    "import threading\n",
    "import time\n",
    "\n",
    "\n",
    "class clockThread(threading.Thread):\n",
    "    def __init__(self,threadID,name,count,delay_time):\n",
    "        threading.Thread.__init__(self)\n",
    "        self.threadID = threadID\n",
    "        self.name = name\n",
    "        self.count = count\n",
    "        self.delay_time = delay_time\n",
    "    \n",
    "    def run(self):\n",
    "        print('线程编号：' + str(self.threadID) + '，开始运行！')\n",
    "        for i in range(self.count):\n",
    "            print(self.name + '为您报时：' + time.asctime())\n",
    "            time.sleep(self.delay_time)\n",
    "        print('线程编号：' + str(self.threadID) + '，运行结束！')"
   ]
  },
  {
   "cell_type": "code",
   "execution_count": null,
   "metadata": {},
   "outputs": [],
   "source": [
    "th1 = clockThread(8848,'松',10,1)\n",
    "th2 = clockThread(8849,'竹',10,1)\n",
    "th3 = clockThread(8850,'梅',10,1)\n",
    "\n",
    "th1.start()\n",
    "th2.start()\n",
    "th3.start()"
   ]
  },
  {
   "cell_type": "markdown",
   "metadata": {},
   "source": [
    "我们创建`clockThread`自定义类是继承自`Thread`父类，并且重写了`__init__`和`run`方法。其中类中两个重要的属性`threadID`和`name`分别代表线程编号和名称。程序开始运行时，各线程开始竞争CPU资源。\n",
    "\n",
    "当然多线程需要考虑许多问题，例如线程同步、优先级队列等等问题，这些会在《操作系统》课程中会有详细的探讨。"
   ]
  },
  {
   "cell_type": "markdown",
   "metadata": {},
   "source": [
    "***"
   ]
  },
  {
   "cell_type": "markdown",
   "metadata": {},
   "source": [
    "## 实验5-4 Python文件操作初步"
   ]
  },
  {
   "cell_type": "markdown",
   "metadata": {},
   "source": [
    "获取数据可以从网络上在线获得，更多的时候需要读取存储在硬盘上的文件。同样，一些程序的运行结果需要持久存储在硬盘中，否则我们需要一次次重复运行，对于大规模程序，既耗费时间又占用系统资源。所以我们需要对文件的读写操作有初步的认识。"
   ]
  },
  {
   "cell_type": "markdown",
   "metadata": {},
   "source": [
    "### 步骤1 读取文件"
   ]
  },
  {
   "cell_type": "markdown",
   "metadata": {},
   "source": [
    "无论是读文件还是写文件，对文件操作的第一步都是打开这个文件，之后对该文件进行后续的操作。"
   ]
  }
 ],
 "metadata": {
  "kernelspec": {
   "display_name": "Python 3",
   "language": "python",
   "name": "python3"
  },
  "language_info": {
   "codemirror_mode": {
    "name": "ipython",
    "version": 3
   },
   "file_extension": ".py",
   "mimetype": "text/x-python",
   "name": "python",
   "nbconvert_exporter": "python",
   "pygments_lexer": "ipython3",
   "version": "3.7.4"
  }
 },
 "nbformat": 4,
 "nbformat_minor": 4
}
