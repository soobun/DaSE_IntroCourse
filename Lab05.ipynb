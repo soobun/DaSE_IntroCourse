{
 "cells": [
  {
   "cell_type": "markdown",
   "metadata": {},
   "source": [
    "# 实验课 05"
   ]
  },
  {
   "cell_type": "markdown",
   "metadata": {},
   "source": [
    "## 实验5-1 Python中的日期与时间"
   ]
  },
  {
   "cell_type": "markdown",
   "metadata": {},
   "source": [
    "下载文件时我们最盼望的就是进度条走得快一点！！！\n",
    "\n",
    "下面这段代码就是用Python编写一个模拟进度条的小程序。"
   ]
  },
  {
   "cell_type": "code",
   "execution_count": 2,
   "metadata": {},
   "outputs": [
    {
     "name": "stdout",
     "output_type": "stream",
     "text": [
      "-----------执行开始----------\n",
      "100%[**************************************************->]5.25s\n",
      "-----------执行结果----------\n"
     ]
    }
   ],
   "source": [
    "import time\n",
    "\n",
    "scale = 50 \n",
    "\n",
    "print(\"执行开始\".center(scale//2,\"-\"))  # .center() 控制输出的样式，宽度为 25//2，即 22，汉字居中，两侧填充 -\n",
    "\n",
    "start = time.perf_counter() # 调用一次 perf_counter()，从计算机系统里随机选一个时间点A，计算其距离当前时间点B1有多少秒。当第二次调用该函数时，默认从第一次调用的时间点A算起，距离当前时间点B2有多少秒。两个函数取差，即实现从时间点B1到B2的计时功能。\n",
    "for i in range(scale+1):   \n",
    "    a = '*' * i             # i 个长度的 * 符号\n",
    "    b = '.' * (scale-i)  # scale-i） 个长度的 . 符号。符号 * 和 . 总长度为50 \n",
    "    c = (i/scale)*100  # 显示当前进度，百分之多少\n",
    "    dur = time.perf_counter() - start    # 计时，计算进度条走到某一百分比的用时\n",
    "    print(\"\\r{:^3.0f}%[{}->{}]{:.2f}s\".format(c,a,b,dur),end='')  # \\r用来在每次输出完成后，将光标移至行首，这样保证进度条始终在同一行输出，即在一行不断刷新的效果；{:^3.0f}，输出格式为居中，占3位，小数点后0位，浮点型数，对应输出的数为c；{}，对应输出的数为a；{}，对应输出的数为b；{:.2f}，输出有两位小数的浮点数，对应输出的数为dur；end=''，用来保证不换行，不加这句默认换行。\n",
    "    time.sleep(0.1)     # 在输出下一个百分之几的进度前，停止0.1秒\n",
    "print(\"\\n\"+\"执行结果\".center(scale//2,'-'))"
   ]
  },
  {
   "cell_type": "code",
   "execution_count": null,
   "metadata": {},
   "outputs": [],
   "source": []
  }
 ],
 "metadata": {
  "kernelspec": {
   "display_name": "Python 3",
   "language": "python",
   "name": "python3"
  },
  "language_info": {
   "codemirror_mode": {
    "name": "ipython",
    "version": 3
   },
   "file_extension": ".py",
   "mimetype": "text/x-python",
   "name": "python",
   "nbconvert_exporter": "python",
   "pygments_lexer": "ipython3",
   "version": "3.7.4"
  }
 },
 "nbformat": 4,
 "nbformat_minor": 4
}
