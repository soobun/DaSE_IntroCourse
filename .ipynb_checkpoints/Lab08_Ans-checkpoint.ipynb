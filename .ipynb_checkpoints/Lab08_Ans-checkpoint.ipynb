{
 "cells": [
  {
   "cell_type": "markdown",
   "metadata": {},
   "source": [
    "# 实验练习08 参考答案"
   ]
  },
  {
   "cell_type": "code",
   "execution_count": 1,
   "metadata": {},
   "outputs": [
    {
     "name": "stdout",
     "output_type": "stream",
     "text": [
      "编号|城市|小时|工作日|大气温度|体感温度|天气|风速|单车租借量\n",
      " 18|  1| 17|  1|  8|  4|  1|  2| 75|\n",
      " 19|  1|  1|  1| 18| 19|  1|  3|  5|\n",
      " 20|  1|  7|  0| 23| 25|  2|  1| 13|\n",
      " 21|  0|  9|  0| 25| 27|  1|  0| 67|\n",
      " 22|  0| 16|  1| 11| 11|  3|  2| 76|\n"
     ]
    }
   ],
   "source": [
    "import pymysql\n",
    "import numpy as np\n",
    "\n",
    "db = pymysql.connect(host = \"cdb-r2g8flnu.bj.tencentcdb.com\", port = 10209, user = \"dase2020\", password = \"dase2020\", database = \"dase_intro_2020\")\n",
    "cursor = db.cursor()\n",
    "\n",
    "sql = \"SELECT * FROM bicycle_train LIMIT 17,5;\"\n",
    "cursor.execute(sql)  # 执行SQL语句\n",
    "result = cursor.fetchall()  # 获取单条数据\n",
    "print('编号|城市|小时|工作日|大气温度|体感温度|天气|风速|单车租借量')\n",
    "for record in result:\n",
    "    for element in record:\n",
    "        print(\"%3d\" % element,end='|')\n",
    "    print()"
   ]
  },
  {
   "cell_type": "code",
   "execution_count": 2,
   "metadata": {},
   "outputs": [
    {
     "name": "stdout",
     "output_type": "stream",
     "text": [
      "风速最小值为0 最大值为7\n"
     ]
    }
   ],
   "source": [
    "sql = \"SELECT DISTINCT wind FROM bicycle_train ORDER BY wind;\"\n",
    "cursor.execute(sql)\n",
    "result = cursor.fetchall()\n",
    "print('风速最小值为%d 最大值为%d' % (result[0][0],result[-1][0]))"
   ]
  },
  {
   "cell_type": "code",
   "execution_count": 3,
   "metadata": {},
   "outputs": [
    {
     "name": "stdout",
     "output_type": "stream",
     "text": [
      "平均温度为 20.6 摄氏度\n"
     ]
    }
   ],
   "source": [
    "sql = \"SELECT AVG(temp_air) FROM bicycle_train WHERE city=0 AND hour=10 AND weather=1 AND wind BETWEEN 0 AND 1 AND y>=100;\"\n",
    "cursor.execute(sql)\n",
    "mean = cursor.fetchone()[0]\n",
    "print('平均温度为 %.1f 摄氏度' % mean)"
   ]
  },
  {
   "cell_type": "code",
   "execution_count": 4,
   "metadata": {},
   "outputs": [
    {
     "name": "stdout",
     "output_type": "stream",
     "text": [
      "平均温度的方差为 37.64\n"
     ]
    }
   ],
   "source": [
    "sql = \"SELECT temp_air FROM bicycle_train WHERE city=0 AND hour=10 AND weather=1 AND wind BETWEEN 0 AND 1 AND y>=100;\"\n",
    "cursor.execute(sql)\n",
    "result = cursor.fetchall()\n",
    "temp_list = []\n",
    "for record in result:\n",
    "    temp_list.append(record[0])\n",
    "temp_arr = np.array(temp_list)\n",
    "temp_var = np.sum((temp_arr-mean)**2) / len(temp_arr)\n",
    "print('平均温度的方差为 %.2f' % temp_var)"
   ]
  },
  {
   "cell_type": "code",
   "execution_count": 5,
   "metadata": {},
   "outputs": [
    {
     "name": "stdout",
     "output_type": "stream",
     "text": [
      "上海:9106\n",
      "北京:8084\n"
     ]
    }
   ],
   "source": [
    "city_dict = {0:'北京', 1:'上海'}\n",
    "sql = \"SELECT city,SUM(y) FROM bicycle_train WHERE is_workday=1 AND weather=3 GROUP BY city ORDER BY SUM(y) DESC;\"\n",
    "cursor.execute(sql)\n",
    "result = cursor.fetchall()\n",
    "for record in result:\n",
    "    print('%s:%d'%(city_dict[record[0]],record[1]))"
   ]
  },
  {
   "cell_type": "code",
   "execution_count": 6,
   "metadata": {},
   "outputs": [
    {
     "name": "stdout",
     "output_type": "stream",
     "text": [
      "19时：42辆\n",
      "18时：63辆\n",
      "17时：65辆\n"
     ]
    }
   ],
   "source": [
    "sql = \"SELECT hour,AVG(y) FROM bicycle_train WHERE hour BETWEEN 17 AND 19 AND city=1 AND is_workday=1 AND temp_body<=10 GROUP BY hour ORDER BY AVG(y);\"\n",
    "cursor.execute(sql)\n",
    "result = cursor.fetchall()\n",
    "for record in result:\n",
    "    print('%d时：%d辆'%(record[0],round(record[1])))"
   ]
  }
 ],
 "metadata": {
  "kernelspec": {
   "display_name": "Python 3",
   "language": "python",
   "name": "python3"
  },
  "language_info": {
   "codemirror_mode": {
    "name": "ipython",
    "version": 3
   },
   "file_extension": ".py",
   "mimetype": "text/x-python",
   "name": "python",
   "nbconvert_exporter": "python",
   "pygments_lexer": "ipython3",
   "version": "3.8.5"
  }
 },
 "nbformat": 4,
 "nbformat_minor": 4
}
