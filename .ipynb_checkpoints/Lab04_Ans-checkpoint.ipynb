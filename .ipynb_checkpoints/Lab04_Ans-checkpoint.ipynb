{
 "cells": [
  {
   "cell_type": "markdown",
   "metadata": {},
   "source": [
    "# 实验练习04 参考答案"
   ]
  },
  {
   "cell_type": "markdown",
   "metadata": {},
   "source": [
    "## 1. 十进制转二进制"
   ]
  },
  {
   "cell_type": "code",
   "execution_count": 1,
   "metadata": {},
   "outputs": [
    {
     "name": "stdout",
     "output_type": "stream",
     "text": [
      "11001011101100110001100100100101\n"
     ]
    }
   ],
   "source": [
    "class Stack:\n",
    "    def __init__(self):\n",
    "        self.__items = []\n",
    "    def isempty(self):  # 返回堆栈是否为空\n",
    "        if len(self.__items) == 0:\n",
    "            return True\n",
    "        else:\n",
    "            return False\n",
    "    def length(self):\n",
    "        return len(self.__items)\n",
    "    def push(self,element):  # 压入堆栈\n",
    "        self.__items.append(element)\n",
    "    def pop(self):  # 弹出堆栈，注意需要处理堆栈为空的情况\n",
    "        try:\n",
    "            return self.__items.pop()\n",
    "        except:\n",
    "            print('ERROR: Stack is empty now!')\n",
    "\n",
    "\n",
    "def dec2bin(num):\n",
    "    s = Stack()\n",
    "    while num != 0:\n",
    "        s.push(num % 2)\n",
    "        num = num // 2\n",
    "    while s.length() != 8:\n",
    "        s.push(0)\n",
    "    result = ''\n",
    "    while s.isempty() == False:\n",
    "        result += str(s.pop())\n",
    "    return result\n",
    "\n",
    "\n",
    "ip_dec = '203.179.25.37'\n",
    "ip_dec_list = ip_dec.split('.')\n",
    "result = ''\n",
    "for ip in ip_dec_list:\n",
    "    result += dec2bin(int(ip))\n",
    "print(result)"
   ]
  },
  {
   "cell_type": "markdown",
   "metadata": {},
   "source": [
    "***"
   ]
  },
  {
   "cell_type": "markdown",
   "metadata": {},
   "source": [
    "## 2. 队列"
   ]
  },
  {
   "cell_type": "code",
   "execution_count": 2,
   "metadata": {},
   "outputs": [
    {
     "name": "stdout",
     "output_type": "stream",
     "text": [
      "3\n",
      "False\n",
      "7\n",
      "8\n",
      "ERROR:Queue is empty now!\n",
      "True\n"
     ]
    }
   ],
   "source": [
    "class Queue:\n",
    "    def __init__(self):\n",
    "        self.__items = []\n",
    "    def length(self):\n",
    "        return len(self.__items)\n",
    "    def isempty(self):\n",
    "        if len(self.__items) == 0:\n",
    "            return True\n",
    "        else:\n",
    "            return False\n",
    "    def enqueue(self, element):\n",
    "        self.__items.append(element)\n",
    "    def dequeue(self):\n",
    "        try:\n",
    "            return self.__items.pop(0)\n",
    "        except:\n",
    "            print('ERROR:Queue is empty now!')\n",
    "    def get_head(self):\n",
    "        try:\n",
    "            return self.__items[0]\n",
    "        except:\n",
    "            print('ERROR:Queue is empty now!')\n",
    "    def get_tail(self):\n",
    "        try:\n",
    "            return self.__items[-1]\n",
    "        except:\n",
    "            print('ERROR:Queue is empty now!')\n",
    "\n",
    "\n",
    "q = Queue()\n",
    "q.enqueue(7)\n",
    "q.enqueue(5)\n",
    "q.enqueue(8)\n",
    "print(q.length())\n",
    "print(q.isempty())\n",
    "print(q.get_head())\n",
    "print(q.get_tail())\n",
    "q.dequeue()\n",
    "q.dequeue()\n",
    "q.dequeue()\n",
    "q.dequeue()\n",
    "print(q.isempty())"
   ]
  },
  {
   "cell_type": "markdown",
   "metadata": {},
   "source": [
    "***"
   ]
  },
  {
   "cell_type": "markdown",
   "metadata": {},
   "source": [
    "## 3. 树的层序遍历"
   ]
  },
  {
   "cell_type": "code",
   "execution_count": 3,
   "metadata": {},
   "outputs": [
    {
     "name": "stdout",
     "output_type": "stream",
     "text": [
      "3 5 1 6 2 0 8 7 4 "
     ]
    }
   ],
   "source": [
    "class Queue:\n",
    "    def __init__(self):\n",
    "        self.__items = []\n",
    "    def length(self):\n",
    "        return len(self.__items)\n",
    "    def isempty(self):\n",
    "        if len(self.__items) == 0:\n",
    "            return True\n",
    "        else:\n",
    "            return False\n",
    "    def enqueue(self, element):\n",
    "        self.__items.append(element)\n",
    "    def dequeue(self):\n",
    "        try:\n",
    "            return self.__items.pop(0)\n",
    "        except:\n",
    "            print('ERROR:Queue is empty now!')\n",
    "    def get_head(self):\n",
    "        try:\n",
    "            return self.__items[0]\n",
    "        except:\n",
    "            print('ERROR:Queue is empty now!')\n",
    "    def get_tail(self):\n",
    "        try:\n",
    "            return self.__items[-1]\n",
    "        except:\n",
    "            print('ERROR:Queue is empty now!')\n",
    "\n",
    "\n",
    "class BinaryTree:\n",
    "    Q = Queue()  # 创建一个类属性，该队列为BinaryTree类派生的所有对象共有\n",
    "    def __init__(self,data=None,left=None,right=None):  # 如果创建节点对象时left或right参数为空，则默认该节点没有左或右子树\n",
    "        self.data = data\n",
    "        self.left = left\n",
    "        self.right = right\n",
    "    def level_order(self):\n",
    "        BinaryTree.Q.enqueue(self)  # 先将根节点加入队列\n",
    "        while BinaryTree.Q.isempty() == False:\n",
    "            node = BinaryTree.Q.dequeue()\n",
    "            print(node.data,end=' ')\n",
    "            if node.left != None:\n",
    "                BinaryTree.Q.enqueue(node.left)\n",
    "            if node.right != None:\n",
    "                BinaryTree.Q.enqueue(node.right)\n",
    "\n",
    "\n",
    "layer3_2 = BinaryTree(2,BinaryTree(7),BinaryTree(4))\n",
    "layer2_5 = BinaryTree(5,BinaryTree(6),layer3_2)\n",
    "layer2_1 = BinaryTree(1,BinaryTree(0),BinaryTree(8))\n",
    "layer1_3 = BinaryTree(3,layer2_5,layer2_1)\n",
    "\n",
    "layer1_3.level_order()"
   ]
  },
  {
   "cell_type": "markdown",
   "metadata": {},
   "source": [
    "***"
   ]
  },
  {
   "cell_type": "markdown",
   "metadata": {},
   "source": [
    "## 4. 输出树的叶子节点"
   ]
  },
  {
   "cell_type": "code",
   "execution_count": 4,
   "metadata": {},
   "outputs": [
    {
     "name": "stdout",
     "output_type": "stream",
     "text": [
      "6 7 4 0 8 "
     ]
    }
   ],
   "source": [
    "class BinaryTree:\n",
    "    def __init__(self,data=None,left=None,right=None):  # 如果创建节点对象时left或right参数为空，则默认该节点没有左或右子树\n",
    "        self.data = data\n",
    "        self.left = left\n",
    "        self.right = right\n",
    "    def print_leaf(self):  # 由前序遍历改编\n",
    "        if self.left == None and self.right == None:\n",
    "            print(self.data,end=' ')\n",
    "        if self.left != None:\n",
    "            self.left.print_leaf()\n",
    "        if self.right != None:\n",
    "            self.right.print_leaf()\n",
    "\n",
    "\n",
    "layer3_2 = BinaryTree(2,BinaryTree(7),BinaryTree(4))\n",
    "layer2_5 = BinaryTree(5,BinaryTree(6),layer3_2)\n",
    "layer2_1 = BinaryTree(1,BinaryTree(0),BinaryTree(8))\n",
    "layer1_3 = BinaryTree(3,layer2_5,layer2_1)\n",
    "\n",
    "layer1_3.print_leaf()"
   ]
  },
  {
   "cell_type": "markdown",
   "metadata": {},
   "source": [
    "***"
   ]
  },
  {
   "cell_type": "markdown",
   "metadata": {},
   "source": [
    "## 5. 手机号正则表达式"
   ]
  },
  {
   "cell_type": "code",
   "execution_count": 5,
   "metadata": {},
   "outputs": [
    {
     "name": "stdout",
     "output_type": "stream",
     "text": [
      "<re.Match object; span=(0, 11), match='13112345678'>\n",
      "None\n",
      "None\n",
      "None\n"
     ]
    }
   ],
   "source": [
    "import re\n",
    "p = '^1(3[0-35-9]|47|5[0-35-9]|66|7[2-35-8]|8[0-9]|9[1389])\\d{8}$|^134[0-8]\\d{7}$'  # 答案不唯一\n",
    "t1 = '13112345678'\n",
    "t2 = '13498765432'\n",
    "t3 = '12345678901'\n",
    "t4 = '1370211234#'\n",
    "print(re.match(p,t1))\n",
    "print(re.match(p,t2))\n",
    "print(re.match(p,t3))\n",
    "print(re.match(p,t4))"
   ]
  }
 ],
 "metadata": {
  "kernelspec": {
   "display_name": "Python 3",
   "language": "python",
   "name": "python3"
  },
  "language_info": {
   "codemirror_mode": {
    "name": "ipython",
    "version": 3
   },
   "file_extension": ".py",
   "mimetype": "text/x-python",
   "name": "python",
   "nbconvert_exporter": "python",
   "pygments_lexer": "ipython3",
   "version": "3.8.5"
  }
 },
 "nbformat": 4,
 "nbformat_minor": 4
}
