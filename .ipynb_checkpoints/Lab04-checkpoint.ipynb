{
 "cells": [
  {
   "cell_type": "markdown",
   "metadata": {},
   "source": [
    "# 实验课 03"
   ]
  },
  {
   "cell_type": "markdown",
   "metadata": {},
   "source": [
    "## 实验3-1 进制转换"
   ]
  },
  {
   "cell_type": "markdown",
   "metadata": {},
   "source": [
    "计算机网络协议中的IP数据报中包含源地址字段和目的地址字段，以达到在网络层传输数据的需要。\n",
    "\n",
    "![IP数据报](img/Lab03-1-1.png)\n",
    "\n",
    "众所周知，目前我们常用的IPv4地址由4部分十进制数组成（例如：202.120.87.12）。但是这是为了方便人们记忆采取的方法，由于信号的传递都是靠高低电平，所以在数据报中地址字段均以二进制表示，上述IP地址实际上会以11001010011110000101011100001100这32位二进制数存储在相应字段中。\n",
    "\n",
    "现在我们尝试做一个IPv4地址转换器！"
   ]
  },
  {
   "cell_type": "markdown",
   "metadata": {},
   "source": [
    "我们尝试做一个将二进制转换为十进制的转换器。可以看到32位的二进制数可按8位一组分成4个组，然后分别对每个组的二进制数转换为十进制数。\n",
    "\n",
    "一般输入的二进制数是以字符串的形式，我们可以先将字符串分为4个子串，然后分别转换为十进制数再组合成人们常见的IPv4地址格式。"
   ]
  },
  {
   "cell_type": "code",
   "execution_count": null,
   "metadata": {},
   "outputs": [],
   "source": [
    "def convert_ip_address_to_dec(address):\n",
    "    subaddress_list=[]\n",
    "    for i in range(4):\n",
    "        subaddress_list.append(address[i*8:i*8+8])\n",
    "    decaddress_list=[]\n",
    "    for add in subaddress_list:\n",
    "        decaddress_list.append(int(add,2))\n",
    "    result=str(decaddress_list[0])+'.'+str(decaddress_list[1])+'.'+str(decaddress_list[2])+'.'+str(decaddress_list[3])\n",
    "    return result"
   ]
  },
  {
   "cell_type": "markdown",
   "metadata": {},
   "source": [
    "上述函数中我们利用`int()`方法进行进制转换，可以尝试一下不同进制直接的转换。"
   ]
  },
  {
   "cell_type": "code",
   "execution_count": null,
   "metadata": {},
   "outputs": [],
   "source": [
    "print(int('1100',2))  # 二进制 -> 十进制\n",
    "print(int('227',8))  # 八进制 -> 十进制\n",
    "print(int('3C5F',16))  # 十六进制 -> 十进制"
   ]
  },
  {
   "cell_type": "markdown",
   "metadata": {},
   "source": [
    "现在我们测试一下这个函数"
   ]
  },
  {
   "cell_type": "code",
   "execution_count": null,
   "metadata": {},
   "outputs": [],
   "source": [
    "address_1='11001010011110000101011100001100'\n",
    "print(convert_ip_address_to_dec(address_1))"
   ]
  },
  {
   "cell_type": "markdown",
   "metadata": {},
   "source": [
    "***"
   ]
  },
  {
   "cell_type": "markdown",
   "metadata": {},
   "source": [
    "## 实验3-2 Python基础数据结构"
   ]
  },
  {
   "cell_type": "markdown",
   "metadata": {},
   "source": [
    "Python中的变量不需要声明。每个变量在使用前都必须赋值，变量赋值以后该变量才会被创建。\n",
    "\n",
    "在Python中，变量就是变量，它没有类型，我们所说的\"类型\"是变量所指的内存中对象的类型。\n",
    "\n",
    "Python中的基本数据类型包括`int`,`float`,`bool`,`complex`,`str`,`list`,`set`,`tuple`和`dict`。"
   ]
  },
  {
   "cell_type": "markdown",
   "metadata": {},
   "source": [
    "### 步骤1 查看变量的“类型”"
   ]
  },
  {
   "cell_type": "code",
   "execution_count": null,
   "metadata": {},
   "outputs": [],
   "source": [
    "num_1 = 6\n",
    "num_2 = 3.14\n",
    "num_3 = \"Tom\"\n",
    "list_1 = [1,2,3,4,5]\n",
    "dict_1 = {'a':1 , 'b':2 , 'c':3}\n",
    "\n",
    "print(type(num_1))\n",
    "print(type(num_2))\n",
    "print(type(num_3))\n",
    "print(type(list_1))\n",
    "print(type(dict_1))"
   ]
  },
  {
   "cell_type": "markdown",
   "metadata": {},
   "source": [
    "可以看到，使用`type()`方法可以返回变量所指的内存中对象的类型。"
   ]
  },
  {
   "cell_type": "markdown",
   "metadata": {},
   "source": [
    "### 步骤2 查看变量的地址"
   ]
  },
  {
   "cell_type": "markdown",
   "metadata": {},
   "source": [
    "在 C/C++ 语言中，指针用来表示或存储一个存储器地址，这个地址的值直接指向存在该地址的对象的值。\n",
    "\n",
    "![C Pointer](img/Lab03-2-1.png)\n",
    "\n",
    "Python中并没有“指针”的概念，不过我们还是可以通过一些方法查看变量在内存中的唯一身份标识。\n",
    "\n",
    "我们查看一下步骤1中定义的几个变量的内存唯一身份标识。"
   ]
  },
  {
   "cell_type": "code",
   "execution_count": null,
   "metadata": {},
   "outputs": [],
   "source": [
    "print(id(num_1))\n",
    "print(id(num_2))\n",
    "print(id(num_3))\n",
    "print(id(list_1))\n",
    "print(id(dict_1))"
   ]
  },
  {
   "cell_type": "markdown",
   "metadata": {},
   "source": [
    "可以看到，使用`id()`方法可以返回变量在内存中的唯一身份标识，可理解为内存地址。\n",
    "\n",
    "在CPython中使用`id()`方法可以返回变量在内存中的真正地址。"
   ]
  },
  {
   "cell_type": "markdown",
   "metadata": {},
   "source": [
    "### 步骤3 判断对象的类型"
   ]
  },
  {
   "cell_type": "markdown",
   "metadata": {},
   "source": [
    "有的时候我们会写大量的复杂代码，需要了解其中某个对象的类型，我们可以使用`isinstance()`方法来判断某个对象是否为一个已知的类型。"
   ]
  },
  {
   "cell_type": "code",
   "execution_count": null,
   "metadata": {},
   "outputs": [],
   "source": [
    "a = 2\n",
    "print(isinstance(a,int))\n",
    "\n",
    "b = [1,2,3]\n",
    "print(isinstance(b,tuple))"
   ]
  },
  {
   "cell_type": "markdown",
   "metadata": {},
   "source": [
    "***"
   ]
  },
  {
   "cell_type": "markdown",
   "metadata": {},
   "source": [
    "## 实验3-3 Python高级数据结构示例1：堆栈"
   ]
  },
  {
   "cell_type": "markdown",
   "metadata": {},
   "source": [
    "堆栈(stack)是计算机科学中的一种抽象数据类型，只允许在有序的线性集合的一端（称为栈顶,top）进行加入数据（push）和移除数据（pop）的运算。因而按照后进先出（LIFO, Last In First Out）的原理运作。\n",
    "\n",
    "![堆栈](img/Lab03-3-1.gif)\n",
    "\n",
    "我们用Python实现一个堆栈类，并进行测试。"
   ]
  },
  {
   "cell_type": "code",
   "execution_count": null,
   "metadata": {},
   "outputs": [],
   "source": [
    "class Stack():\n",
    "    def __init__(self):\n",
    "        self.__items = []\n",
    "    def size(self):  # 返回堆栈长度\n",
    "        return len(self.__items)\n",
    "    def isempty(self):  # 返回堆栈是否为空\n",
    "        if len(self.__items)==0:\n",
    "            return True\n",
    "        else:\n",
    "            return False\n",
    "    def push(self,element):  # 压入堆栈\n",
    "        self.__items.append(element)\n",
    "    def pop(self):  # 弹出堆栈，注意需要处理堆栈为空的情况\n",
    "        try:\n",
    "            return self.__items.pop()\n",
    "        except:\n",
    "            print('ERROR: Stack is empty now!')\n",
    "    def peek(self):  # 返回栈顶元素，注意需要处理堆栈为空的情况\n",
    "        try:\n",
    "            return self.__items[-1]\n",
    "        except:\n",
    "            print('ERROR: Stack is empty now!')\n",
    "\n",
    "s = Stack()\n",
    "s.push(1)  # 堆栈目前为 [1]\n",
    "print(s.pop()) # 堆栈目前为 [ ]\n",
    "print(s.pop()) # 错误，堆栈为空\n",
    "\n",
    "print('**********')\n",
    "\n",
    "s.push(3.5)  # 堆栈目前为[3.5]\n",
    "s.push(2.7)  # 堆栈目前为[3.5, 2.7]\n",
    "print(s.peek())\n",
    "print(s.size())\n",
    "print(s.isempty())"
   ]
  },
  {
   "cell_type": "markdown",
   "metadata": {},
   "source": [
    "***"
   ]
  },
  {
   "cell_type": "markdown",
   "metadata": {},
   "source": [
    "## 实验3-4 Python高级数据结构示例2：树"
   ]
  },
  {
   "cell_type": "markdown",
   "metadata": {},
   "source": [
    "在数据结构中，树(tree)是由n（n>0）个有限节点组成一个具有层次关系的集合。把它叫做“树”是因为它看起来像一棵倒挂的树，也就是说它是根朝上，而叶朝下的。它具有以下的特点：\n",
    "\n",
    "* 每个节点都只有有限个子节点或无子节点；\n",
    "* 没有父节点的节点称为根节点；\n",
    "* 每一个非根节点有且只有一个父节点；\n",
    "* 除了根节点外，每个子节点可以分为多个不相交的子树；\n",
    "* 树里面没有环路。\n",
    "\n",
    "在C语言中，我们经常利用结构体定义树节点，例如定义一个二叉树结点：\n",
    "\n",
    "```C\n",
    "struct TreeNode\n",
    "{\n",
    "    int data;\n",
    "    struct TreeNode* LNode;\n",
    "    struct TreeNode* RNode;\n",
    "};\n",
    "```\n",
    "\n",
    "*结果我们实际运用时被烦人的指针弄晕了……*"
   ]
  },
  {
   "cell_type": "markdown",
   "metadata": {},
   "source": [
    "在Python中，我们可以利用字典(dict)数据类型比较容易地构造一棵树，现在我们定义一个树类，并测试相关这个类方法。\n",
    "\n",
    "![树](img/Lab03-4-1.png)"
   ]
  },
  {
   "cell_type": "code",
   "execution_count": null,
   "metadata": {},
   "outputs": [],
   "source": []
  }
 ],
 "metadata": {
  "kernelspec": {
   "display_name": "Python 3",
   "language": "python",
   "name": "python3"
  },
  "language_info": {
   "codemirror_mode": {
    "name": "ipython",
    "version": 3
   },
   "file_extension": ".py",
   "mimetype": "text/x-python",
   "name": "python",
   "nbconvert_exporter": "python",
   "pygments_lexer": "ipython3",
   "version": "3.7.4"
  }
 },
 "nbformat": 4,
 "nbformat_minor": 4
}
