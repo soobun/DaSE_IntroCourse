{
 "cells": [
  {
   "cell_type": "markdown",
   "metadata": {},
   "source": [
    "# 实验课 02"
   ]
  },
  {
   "cell_type": "markdown",
   "metadata": {},
   "source": [
    "## 实验2-1 Python教程"
   ]
  },
  {
   "cell_type": "markdown",
   "metadata": {},
   "source": [
    "请完成[《菜鸟教程——Python3教程》](https://www.runoob.com/python3/python3-tutorial.html)中“Python3 输入和输出”（含）之前的学习。"
   ]
  },
  {
   "cell_type": "markdown",
   "metadata": {},
   "source": [
    "***"
   ]
  },
  {
   "cell_type": "markdown",
   "metadata": {},
   "source": [
    "## 实验2-2 认识“水杉在线”平台"
   ]
  },
  {
   "cell_type": "markdown",
   "metadata": {},
   "source": [
    "请扫描该二维码绑定水杉在线平台的账户。\n",
    "\n",
    "![Lab02-2-1](img/Lab02-2-1.png)\n",
    "\n",
    "关注公众号后，点击“我的”-“会员中心”，然后绑定手机号与学号信息。"
   ]
  },
  {
   "cell_type": "markdown",
   "metadata": {},
   "source": [
    "***"
   ]
  },
  {
   "cell_type": "markdown",
   "metadata": {},
   "source": [
    "## 实验练习02"
   ]
  },
  {
   "cell_type": "markdown",
   "metadata": {},
   "source": [
    "### 1. 判断BMI指数"
   ]
  },
  {
   "cell_type": "markdown",
   "metadata": {},
   "source": [
    "BMI指数（即身体质量指数，英文为 Body Mass Index ，简称 BMI ），是反应体内脂肪总量的指标， BMI 指数的计算方法为$BMI=\\frac{w}{h^2}$，其中$w$为体重，单位是千克；`h`为身高，单位是米。计算BMI指数可粗略评价身体状况，如下：\n",
    "\n",
    "* $BMI<18.5$ 轻体重\n",
    "* $18.5<=BMI<24$ 正常\n",
    "* $24<=BMI<28$ 超重\n",
    "* $BMI>=28$ 肥胖\n",
    "\n",
    "现在请设计程序，提示用户分别输入自己的身高和体重，并给出BMI指数的建议。"
   ]
  },
  {
   "cell_type": "markdown",
   "metadata": {},
   "source": [
    "### 2. 打印乘法表"
   ]
  },
  {
   "cell_type": "markdown",
   "metadata": {},
   "source": [
    "请打印九九乘法表。"
   ]
  },
  {
   "cell_type": "markdown",
   "metadata": {},
   "source": [
    "### 3. 简易数据处理"
   ]
  },
  {
   "cell_type": "markdown",
   "metadata": {},
   "source": [
    "在`data`目录下的`Lab02-e3.txt`中含有一个包含多个数据的列表，列表名为`data`。请直接复制这个列表到你的程序中，然后编写程序求以下题目的结果。\n",
    "\n",
    "* 0值数量；及\n",
    "* 非零值的平均数。\n",
    "\n",
    "*参考答案：0值数量：54；非零值平均数：28.04426*"
   ]
  }
 ],
 "metadata": {
  "kernelspec": {
   "display_name": "Python 3",
   "language": "python",
   "name": "python3"
  },
  "language_info": {
   "codemirror_mode": {
    "name": "ipython",
    "version": 3
   },
   "file_extension": ".py",
   "mimetype": "text/x-python",
   "name": "python",
   "nbconvert_exporter": "python",
   "pygments_lexer": "ipython3",
   "version": "3.7.4"
  }
 },
 "nbformat": 4,
 "nbformat_minor": 4
}
