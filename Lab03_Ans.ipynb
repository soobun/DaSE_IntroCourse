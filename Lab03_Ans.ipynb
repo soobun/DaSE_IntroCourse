{
 "cells": [
  {
   "cell_type": "markdown",
   "metadata": {},
   "source": [
    "# 实验练习03 参考答案"
   ]
  },
  {
   "cell_type": "markdown",
   "metadata": {},
   "source": [
    "## 1. 递归阶乘函数设计"
   ]
  },
  {
   "cell_type": "code",
   "execution_count": null,
   "metadata": {},
   "outputs": [],
   "source": [
    "def recursion(n):\n",
    "    if n == 1:\n",
    "        return 1\n",
    "    else:\n",
    "        return n * recursion(n - 1)\n",
    "\n",
    "    \n",
    "test_1 = recursion(5)\n",
    "print(\"5!=%d\" % test_1)\n",
    "test_2 = recursion(6)\n",
    "print(\"6!=%d\" % test_2)"
   ]
  },
  {
   "cell_type": "markdown",
   "metadata": {},
   "source": [
    "***"
   ]
  },
  {
   "cell_type": "markdown",
   "metadata": {},
   "source": [
    "## 2. 计算27的立方根"
   ]
  },
  {
   "cell_type": "code",
   "execution_count": null,
   "metadata": {},
   "outputs": [],
   "source": [
    "import math\n",
    "result = math.pow(27,1.0/3)\n",
    "print(result)"
   ]
  },
  {
   "cell_type": "markdown",
   "metadata": {},
   "source": [
    "***"
   ]
  },
  {
   "cell_type": "markdown",
   "metadata": {},
   "source": [
    "## 3. 分治法寻找假币"
   ]
  },
  {
   "cell_type": "markdown",
   "metadata": {},
   "source": [
    "对于某一次迭代，硬币数可能为奇数或者偶数。\n",
    "\n",
    "对于偶数个硬币，寻找中间元素下标，然后统计左右“天平”的重量，然后对较轻的一侧进入递归迭代；\n",
    "\n",
    "对于奇数个硬币，寻找中间元素下标，同样统计左右“天平”重量，如果左右重量一致，则中间元素就是假币。\n",
    "\n",
    "迭代终止条件因硬币个数奇偶不同分为两种情况（该题解决方法不唯一，可有其他解决思路）。"
   ]
  },
  {
   "cell_type": "code",
   "execution_count": null,
   "metadata": {},
   "outputs": [],
   "source": [
    "def find_incorrect_coin(coins, start_index, end_index):\n",
    "    if end_index == start_index:\n",
    "        return end_index\n",
    "    if end_index - start_index == 1:\n",
    "        return end_index if coins[end_index] < coins[start_index] else start_index\n",
    "    if (end_index - start_index) % 2 == 1:  # 偶数个硬币\n",
    "        mid_index = (end_index + start_index) // 2\n",
    "        left_weight = sum(coins[start_index:mid_index + 1])\n",
    "        right_weight = sum(coins[mid_index + 1:end_index + 1])\n",
    "        if left_weight < right_weight:\n",
    "            return find_incorrect_coin(coins, start_index, mid_index)\n",
    "        else:\n",
    "            return find_incorrect_coin(coins, mid_index + 1, end_index)\n",
    "    else:  # 奇数个硬币\n",
    "        mid_index = (end_index + start_index) // 2\n",
    "        left_weight = sum(coins[start_index:mid_index])\n",
    "        right_weight = sum(coins[mid_index + 1:end_index + 1])\n",
    "        if left_weight < right_weight:\n",
    "            return find_incorrect_coin(coins, start_index, mid_index - 1)\n",
    "        elif left_weight > right_weight:\n",
    "            return find_incorrect_coin(coins, mid_index + 1, end_index)\n",
    "        else:\n",
    "            return mid_index\n",
    "\n",
    "\n",
    "coins = [2,2,2,2,2,2,1,2,2,2,2,2,2,2,2]\n",
    "result = find_incorrect_coin(coins, 0, len(coins) - 1)\n",
    "print(result)"
   ]
  },
  {
   "cell_type": "markdown",
   "metadata": {},
   "source": [
    "***"
   ]
  },
  {
   "cell_type": "markdown",
   "metadata": {},
   "source": [
    "## 4. 蒙特卡洛法求积分"
   ]
  },
  {
   "cell_type": "markdown",
   "metadata": {},
   "source": [
    "预估函数在[2,3]区间内的最值，大约在12到13之间。\n",
    "\n",
    "![AnsFig](img/Lab03-Ans-1.png)"
   ]
  },
  {
   "cell_type": "code",
   "execution_count": null,
   "metadata": {},
   "outputs": [],
   "source": [
    "import random\n",
    "import math\n",
    "\n",
    "S = (3.0 - 2.0) * 13\n",
    "N = 10000000\n",
    "C = 0\n",
    "for i in range(N):\n",
    "    x = random.uniform(2.0, 3.0)\n",
    "    y = random.uniform(0.0, 13.0)\n",
    "    if y <= x **2 + 4 * x * math.sin(x):\n",
    "        C += 1\n",
    "I = C * S / N\n",
    "print(I)"
   ]
  },
  {
   "cell_type": "markdown",
   "metadata": {},
   "source": [
    "蒙特卡洛法的中心思想就是**目标区域内随机点数量与总随机点数量之比近似于目标区域面积与矩形面积之比**\n",
    "\n",
    "实际求得的近似值与生成的随机数、循环迭代次数都有关系\n",
    "\n",
    "理论上矩形的纵坐标长度可以取很大的值，只要迭代次数足够多，也可以取得近似值，但为了计算效率，同时保证随机点尽可能落在函数图像下方，我们的纵坐标上界尽量与函数在指定区间的最大值相近。"
   ]
  }
 ],
 "metadata": {
  "kernelspec": {
   "display_name": "Python 3",
   "language": "python",
   "name": "python3"
  },
  "language_info": {
   "codemirror_mode": {
    "name": "ipython",
    "version": 3
   },
   "file_extension": ".py",
   "mimetype": "text/x-python",
   "name": "python",
   "nbconvert_exporter": "python",
   "pygments_lexer": "ipython3",
   "version": "3.8.5"
  }
 },
 "nbformat": 4,
 "nbformat_minor": 4
}
