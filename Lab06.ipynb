{
 "cells": [
  {
   "cell_type": "markdown",
   "metadata": {},
   "source": [
    "# 实验课 06"
   ]
  },
  {
   "cell_type": "markdown",
   "metadata": {},
   "source": [
    "## 实验6-1 Linux基本操作（下）"
   ]
  },
  {
   "cell_type": "markdown",
   "metadata": {},
   "source": [
    "* ### `cat`命令\n",
    "\n",
    "使用`cat`命令可以完整查看一个文件内的所有内容，例如\n",
    "> `cat test.txt` 可以查看test.txt文件的所有内容\n",
    "\n",
    "有的时候我们查看代码文件，最好像在IDE那样在屏幕左侧显示行号，可以帮助我们快速定位代码位置。可以在`cat`命令后加`-n`参数，例如\n",
    "> `cat -n login.py` 可以在查看文件内容的左侧显示行号（空白行也会标注行号）\n",
    "\n",
    "![cat-n](img/Lab06-1-1.png)"
   ]
  },
  {
   "cell_type": "markdown",
   "metadata": {},
   "source": [
    "* ### `more`命令\n",
    "\n",
    "有的文件很长很长，如果使用`cat`命令一是加载缓慢、二是如果我们寻找的文件内容在文件起始位置，那么我们还没来得及看到内容就被后面的内容覆盖了……这时候我们需要使用`more`命令，让文件内容先显示一屏，当我们按下键盘按键时再显示下一屏。例如\n",
    "> `more login.py`\n",
    "\n",
    "此时屏幕会暂时显示第一屏的内容，而且在最下方会出现“--More--(60%)”或者“--更多--(60%)”字样，代表当前文件内容还未显示完，已经显示60%的内容。\n",
    "\n",
    "![more](img/Lab06-1-2.png)\n",
    "\n",
    "现在我们可以按下`Enter`键，此时内容会往下显示一行；\n",
    "\n",
    "如果按下空格键，会显示下一屏的内容。\n",
    "\n",
    "如果想退出查看，可以按下`q`键，会立刻退出查看器。"
   ]
  },
  {
   "cell_type": "markdown",
   "metadata": {},
   "source": [
    "* ### `head`命令\n",
    "\n",
    "如果我们只想查看某个文件的前几行，我们可以使用`head`命令快速查看，例如\n",
    "> `head -n 7 login.py` 可以显示文件的前7行内容\n",
    ">\n",
    "> `head login.py` 如果不加`-n`参数，默认显示文件的前10行内容"
   ]
  },
  {
   "cell_type": "markdown",
   "metadata": {},
   "source": [
    "***"
   ]
  },
  {
   "cell_type": "markdown",
   "metadata": {},
   "source": [
    "## 实验6-2 NumPy库初步"
   ]
  },
  {
   "cell_type": "markdown",
   "metadata": {},
   "source": [
    "![NumPy](img/Lab06-2-1.png)\n",
    "\n",
    "NumPy(Numerical Python) 是 Python 语言的一个扩展程序库，支持大量的维度数组与矩阵运算，此外也针对数组运算提供大量的数学函数库。"
   ]
  },
  {
   "cell_type": "markdown",
   "metadata": {},
   "source": [
    "### 步骤1 安装NumPy"
   ]
  },
  {
   "cell_type": "markdown",
   "metadata": {},
   "source": [
    "我们在实验课01中已经配置好了编程环境，由于NumPy库不是Python自带的库，需要我们手动安装。幸好Python提供了Pip安装工具可以简单快速地安装第三方库。现在我们先安装NumPy库。\n",
    "\n",
    "启动ConEmu，并在命令行中输入`pip install numpy`，根据提示（若有）按下键盘上的`y`键确认安装，pip会自动下载安装包并安装。"
   ]
  },
  {
   "cell_type": "markdown",
   "metadata": {},
   "source": [
    "### 步骤2 创建数组"
   ]
  },
  {
   "cell_type": "markdown",
   "metadata": {},
   "source": [
    "* #### 创建空数组\n",
    "\n",
    "`empty` 方法用来创建一个指定形状（shape）、数据类型（dtype）且未初始化的数组。\n",
    "\n",
    "在使用NumPy的任何方法之前别忘了导入NumPy库。"
   ]
  },
  {
   "cell_type": "code",
   "execution_count": null,
   "metadata": {},
   "outputs": [],
   "source": [
    "import numpy as np  # 习惯以np代指NumPy，后续调用时无需再输入过多前缀\n",
    "arr1 = np.empty((4,3),dtype=float)  # 创建一个4行3列的二维数组，各元素值未知\n",
    "print(arr1)"
   ]
  },
  {
   "cell_type": "markdown",
   "metadata": {},
   "source": [
    "可以看到，数组元素的值是随机的，创建一个空数组的意义在于便于后续操作无需通过循环创建数组，可直接通过数组索引修改数组值。"
   ]
  },
  {
   "cell_type": "markdown",
   "metadata": {},
   "source": [
    "* #### 创建全0（全1）数组\n",
    "\n",
    "`zeros`和`ones`方法分别用于创建一个指定形状和数据类型的全0数组或全1数组。"
   ]
  },
  {
   "cell_type": "code",
   "execution_count": null,
   "metadata": {},
   "outputs": [],
   "source": [
    "arr2 = np.zeros(3)  # 创建一个长度为3的一维全0数组，数据类型默认为浮点型\n",
    "print(arr2)"
   ]
  },
  {
   "cell_type": "code",
   "execution_count": null,
   "metadata": {},
   "outputs": [],
   "source": [
    "arr3 = np.ones((2,2,2),dtype=int)  # 创建一个2*2*2的三维数组，数据类型为整型的全1数组\n",
    "print(arr3)"
   ]
  },
  {
   "cell_type": "markdown",
   "metadata": {},
   "source": [
    "* #### 以现有数据创建数组\n",
    "\n",
    "`array`可以以现有的列表、元组创建NumPy数组（ndarray对象）"
   ]
  },
  {
   "cell_type": "code",
   "execution_count": null,
   "metadata": {},
   "outputs": [],
   "source": [
    "data = [[1,2,3],[4,5,6],[7,8,9]]\n",
    "arr4 = np.array(data)\n",
    "print(arr4)"
   ]
  },
  {
   "cell_type": "markdown",
   "metadata": {},
   "source": [
    "* #### 从数值范围创建数组\n",
    "\n",
    "`arange`类似于Python自带的`range`方法，创建一个序列数组。"
   ]
  },
  {
   "cell_type": "code",
   "execution_count": null,
   "metadata": {},
   "outputs": [],
   "source": [
    "arr5 = np.arange(10)  # 创建 0~9 的序列数组\n",
    "arr6 = np.arange(3,7)  # 创建 3~6 的序列数组\n",
    "arr7 = np.arange(1,11,2,dtype = float)  # 创建 1~9 的步长为 2 的，数据类型为浮点型的序列数组\n",
    "print(arr5)\n",
    "print(arr6)\n",
    "print(arr7)"
   ]
  },
  {
   "cell_type": "markdown",
   "metadata": {},
   "source": [
    "### 步骤3 数组操作"
   ]
  },
  {
   "cell_type": "markdown",
   "metadata": {},
   "source": [
    "* #### 修改数组形状\n",
    "\n",
    "`reshape`方法可以在不改变数据的前提下修改数组的形状。例如我们首先创建一个长度为24的一维数组，再将其转换为4行6列的二维数组。"
   ]
  },
  {
   "cell_type": "code",
   "execution_count": null,
   "metadata": {},
   "outputs": [],
   "source": [
    "arr8 = np.arange(24)\n",
    "print(arr8)"
   ]
  },
  {
   "cell_type": "code",
   "execution_count": null,
   "metadata": {},
   "outputs": [],
   "source": [
    "arr9 = np.reshape(arr8,(4,6))\n",
    "print(arr9)"
   ]
  },
  {
   "cell_type": "markdown",
   "metadata": {},
   "source": [
    "`transpose`方法用于翻转数组，类似于我们在线性代数中学习的矩阵的转置。"
   ]
  },
  {
   "cell_type": "code",
   "execution_count": null,
   "metadata": {},
   "outputs": [],
   "source": [
    "arr10 = np.arange(1,10).reshape((3,3))\n",
    "print(arr10)"
   ]
  },
  {
   "cell_type": "code",
   "execution_count": null,
   "metadata": {},
   "outputs": [],
   "source": [
    "arr11 = np.transpose(arr10)\n",
    "print(arr11)"
   ]
  },
  {
   "cell_type": "markdown",
   "metadata": {},
   "source": [
    "或者我们可以像表示转置矩阵那样直接使用数组的`T`方法"
   ]
  },
  {
   "cell_type": "code",
   "execution_count": null,
   "metadata": {},
   "outputs": [],
   "source": [
    "arr12 = arr10.T\n",
    "print(arr12)"
   ]
  },
  {
   "cell_type": "markdown",
   "metadata": {},
   "source": [
    "### 步骤4 简单数学操作"
   ]
  },
  {
   "cell_type": "markdown",
   "metadata": {},
   "source": [
    "在C语言中，如果想对一个数组的所有元素各自增1，我们需要编写循环逐个对数组元素操作。而在NumPy中这一切都非常简单，这都依赖内部的“广播”（Boardcast）机制完成。"
   ]
  },
  {
   "cell_type": "code",
   "execution_count": null,
   "metadata": {},
   "outputs": [],
   "source": [
    "arr13 = np.arange(5)  # 生成0-4的长度为5的一维数组\n",
    "print(arr13)\n",
    "arr13 += 1  # 我们只需简单地进行数学运算就可以对数组全部元素施加操作\n",
    "print(arr13)"
   ]
  },
  {
   "cell_type": "code",
   "execution_count": null,
   "metadata": {},
   "outputs": [],
   "source": [
    "arr14 = np.arange(9).reshape((3,3))\n",
    "print(arr14)\n",
    "arr14 *= 2\n",
    "print(arr14)"
   ]
  },
  {
   "cell_type": "markdown",
   "metadata": {},
   "source": [
    "我们还可以从统计学角度处理数据，寻找数组的最值、均值、方差等等，并且可以沿某个轴寻找统计量。"
   ]
  },
  {
   "cell_type": "code",
   "execution_count": null,
   "metadata": {},
   "outputs": [],
   "source": [
    "arr15 = np.array([[3.2, 1.7, 5.3],\n",
    "                  [2.1, -5.0 ,3.5],\n",
    "                  [7.2, 1.1, 0.3]])\n",
    "print(np.max(arr15))  # 返回数组最大值\n",
    "print(np.min(arr15,axis=0))  # 返回数组沿第0轴（也就是每一列）的最大值\n",
    "print(np.mean(arr15,axis=1))  # 返回数组沿第1轴（也就是每一行）的均值\n",
    "print(np.var(arr15))  # 返回数组所有元素的方差"
   ]
  },
  {
   "cell_type": "markdown",
   "metadata": {},
   "source": [
    "***"
   ]
  },
  {
   "cell_type": "markdown",
   "metadata": {},
   "source": [
    "## 实验6-3 Matplotlib库初步"
   ]
  },
  {
   "cell_type": "markdown",
   "metadata": {},
   "source": [
    "**Matplotlib**是Python编程语言及其数值数学扩展包 NumPy的可视化操作界面。可以作出很多精美的实验图像。"
   ]
  },
  {
   "cell_type": "markdown",
   "metadata": {},
   "source": [
    "### 步骤1 安装Matplotlib"
   ]
  },
  {
   "cell_type": "markdown",
   "metadata": {},
   "source": [
    "Matplotlib同样是第三方库，需要我们手动安装。\n",
    "\n",
    "启动ConEmu，在命令行中输入`pip install matplotlib`，pip会自动下载并安装Matplotlib。"
   ]
  },
  {
   "cell_type": "markdown",
   "metadata": {},
   "source": [
    "### 步骤2 绘制函数图像"
   ]
  },
  {
   "cell_type": "markdown",
   "metadata": {},
   "source": [
    "我们从绘制简单的函数图像入手。"
   ]
  },
  {
   "cell_type": "code",
   "execution_count": null,
   "metadata": {},
   "outputs": [],
   "source": [
    "import matplotlib.pyplot as plt\n",
    "import numpy as np\n",
    "import math\n",
    "\n",
    "x = np.arange(0, 4*math.pi)\n",
    "y = np.sin(x)\n",
    "\n",
    "plt.plot(x,y)\n",
    "plt.show()"
   ]
  },
  {
   "cell_type": "markdown",
   "metadata": {},
   "source": [
    "似乎图像不太“平滑”，这是因为我们的x的间隔是默认值1，我们可以把`arange`方法的步长设置的小一点，重新画图。"
   ]
  },
  {
   "cell_type": "code",
   "execution_count": null,
   "metadata": {},
   "outputs": [],
   "source": [
    "x = np.arange(0,4*math.pi,0.1)\n",
    "y = np.sin(x)\n",
    "\n",
    "plt.plot(x,y)\n",
    "plt.show()"
   ]
  }
 ],
 "metadata": {
  "kernelspec": {
   "display_name": "Python 3",
   "language": "python",
   "name": "python3"
  },
  "language_info": {
   "codemirror_mode": {
    "name": "ipython",
    "version": 3
   },
   "file_extension": ".py",
   "mimetype": "text/x-python",
   "name": "python",
   "nbconvert_exporter": "python",
   "pygments_lexer": "ipython3",
   "version": "3.7.4"
  }
 },
 "nbformat": 4,
 "nbformat_minor": 4
}
