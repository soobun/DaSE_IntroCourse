{
 "cells": [
  {
   "cell_type": "markdown",
   "metadata": {},
   "source": [
    "# 实验课 03"
   ]
  },
  {
   "cell_type": "markdown",
   "metadata": {},
   "source": [
    "## 实验3-1 进制转换"
   ]
  },
  {
   "cell_type": "markdown",
   "metadata": {},
   "source": [
    "计算机网络协议中的IP数据报中包含源地址字段和目的地址字段，以达到在网络层传输数据的需要。\n",
    "\n",
    "![IP数据报](img/Lab03-1-1.png)\n",
    "\n",
    "众所周知，目前我们常用的IPv4地址由4部分十进制数组成（例如：202.120.87.12）。但是这是为了方便人们记忆采取的方法，由于信号的传递都是靠高低电平，所以在数据报中地址字段均以二进制表示，上述IP地址实际上会以11001010011110000101011100001100这32位二进制数存储在相应字段中。\n",
    "\n",
    "现在我们尝试做一个IPv4地址转换器！"
   ]
  },
  {
   "cell_type": "markdown",
   "metadata": {},
   "source": [
    "我们尝试做一个将二进制转换为十进制的转换器。可以看到32位的二进制数可按8位一组分成4个组，然后分别对每个组的二进制数转换为十进制数。\n",
    "\n",
    "一般输入的二进制数是以字符串的形式，我们可以先将字符串分为4个子串，然后分别转换为十进制数再组合成人们常见的IPv4地址格式。"
   ]
  },
  {
   "cell_type": "code",
   "execution_count": null,
   "metadata": {},
   "outputs": [],
   "source": [
    "def convert_ip_address_to_dec(address):\n",
    "    subaddress_list=[]\n",
    "    for i in range(4):\n",
    "        subaddress_list.append(address[i*8:i*8+8])\n",
    "    decaddress_list=[]\n",
    "    for add in subaddress_list:\n",
    "        decaddress_list.append(int(add,2))\n",
    "    result=str(decaddress_list[0])+'.'+str(decaddress_list[1])+'.'+str(decaddress_list[2])+'.'+str(decaddress_list[3])\n",
    "    return result"
   ]
  },
  {
   "cell_type": "markdown",
   "metadata": {},
   "source": [
    "上述函数中我们利用`int()`方法进行进制转换，可以尝试一下不同进制直接的转换。"
   ]
  },
  {
   "cell_type": "code",
   "execution_count": null,
   "metadata": {},
   "outputs": [],
   "source": [
    "print(int('1100',2))  # 二进制 -> 十进制\n",
    "print(int('227',8))  # 八进制 -> 十进制\n",
    "print(int('3C5F',16))  # 十六进制 -> 十进制"
   ]
  },
  {
   "cell_type": "markdown",
   "metadata": {},
   "source": [
    "现在我们测试一下这个函数"
   ]
  },
  {
   "cell_type": "code",
   "execution_count": null,
   "metadata": {},
   "outputs": [],
   "source": [
    "address_1='11001010011110000101011100001100'\n",
    "print(convert_ip_address_to_dec(address_1))"
   ]
  },
  {
   "cell_type": "markdown",
   "metadata": {},
   "source": [
    "***"
   ]
  },
  {
   "cell_type": "markdown",
   "metadata": {},
   "source": [
    "## 实验3-2 Python基础数据结构"
   ]
  },
  {
   "cell_type": "markdown",
   "metadata": {},
   "source": [
    "Python中的变量不需要声明。每个变量在使用前都必须赋值，变量赋值以后该变量才会被创建。\n",
    "\n",
    "在Python中，变量就是变量，它没有类型，我们所说的\"类型\"是变量所指的内存中对象的类型。\n",
    "\n",
    "Python中的基本数据类型包括`int`,`float`,`bool`,`complex`,`str`,`list`,`set`,`tuple`和`dict`。"
   ]
  },
  {
   "cell_type": "markdown",
   "metadata": {},
   "source": [
    "### 步骤1 查看变量的“类型”"
   ]
  },
  {
   "cell_type": "code",
   "execution_count": null,
   "metadata": {},
   "outputs": [],
   "source": [
    "num_1 = 6\n",
    "num_2 = 3.14\n",
    "num_3 = \"Tom\"\n",
    "list_1 = [1,2,3,4,5]\n",
    "dict_1 = {'a':1 , 'b':2 , 'c':3}\n",
    "\n",
    "print(type(num_1))\n",
    "print(type(num_2))\n",
    "print(type(num_3))\n",
    "print(type(list_1))\n",
    "print(type(dict_1))"
   ]
  },
  {
   "cell_type": "markdown",
   "metadata": {},
   "source": [
    "可以看到，使用`type()`方法可以返回变量所指的内存中对象的类型。"
   ]
  },
  {
   "cell_type": "markdown",
   "metadata": {},
   "source": [
    "### 步骤2 查看变量的地址"
   ]
  },
  {
   "cell_type": "markdown",
   "metadata": {},
   "source": [
    "在 C/C++ 语言中，指针用来表示或存储一个存储器地址，这个地址的值直接指向存在该地址的对象的值。\n",
    "\n",
    "![C Pointer](img/Lab03-2-1.png)\n",
    "\n",
    "Python中并没有“指针”的概念，不过我们还是可以通过一些方法查看变量在内存中的唯一身份标识。\n",
    "\n",
    "我们查看一下步骤1中定义的几个变量的内存唯一身份标识。"
   ]
  },
  {
   "cell_type": "code",
   "execution_count": null,
   "metadata": {},
   "outputs": [],
   "source": [
    "print(id(num_1))\n",
    "print(id(num_2))\n",
    "print(id(num_3))\n",
    "print(id(list_1))\n",
    "print(id(dict_1))"
   ]
  },
  {
   "cell_type": "markdown",
   "metadata": {},
   "source": [
    "可以看到，使用`id()`方法可以返回变量在内存中的唯一身份标识，可理解为内存地址。\n",
    "\n",
    "在CPython中使用`id()`方法可以返回变量在内存中的真正地址。"
   ]
  },
  {
   "cell_type": "markdown",
   "metadata": {},
   "source": [
    "### 步骤3 判断对象的类型"
   ]
  },
  {
   "cell_type": "markdown",
   "metadata": {},
   "source": [
    "有的时候我们会写大量的复杂代码，需要了解其中某个对象的类型，我们可以使用`isinstance()`方法来判断某个对象是否为一个已知的类型。"
   ]
  },
  {
   "cell_type": "code",
   "execution_count": null,
   "metadata": {},
   "outputs": [],
   "source": [
    "a = 2\n",
    "print(isinstance(a,int))\n",
    "\n",
    "b = [1,2,3]\n",
    "print(isinstance(b,tuple))"
   ]
  },
  {
   "cell_type": "markdown",
   "metadata": {},
   "source": [
    "***"
   ]
  },
  {
   "cell_type": "markdown",
   "metadata": {},
   "source": [
    "## 实验3-3 Python高级数据结构示例1：堆栈"
   ]
  },
  {
   "cell_type": "markdown",
   "metadata": {},
   "source": [
    "堆栈(stack)是计算机科学中的一种抽象数据类型，只允许在有序的线性集合的一端（称为栈顶,top）进行加入数据（push）和移除数据（pop）的运算。因而按照后进先出（LIFO, Last In First Out）的原理运作。\n",
    "\n",
    "![堆栈](img/Lab03-3-1.gif)\n",
    "\n",
    "我们用Python实现一个堆栈类，并进行测试。"
   ]
  },
  {
   "cell_type": "code",
   "execution_count": null,
   "metadata": {},
   "outputs": [],
   "source": [
    "class Stack():\n",
    "    def __init__(self):\n",
    "        self.__items = []\n",
    "    def size(self):  # 返回堆栈长度\n",
    "        return len(self.__items)\n",
    "    def isempty(self):  # 返回堆栈是否为空\n",
    "        if len(self.__items)==0:\n",
    "            return True\n",
    "        else:\n",
    "            return False\n",
    "    def push(self,element):  # 压入堆栈\n",
    "        self.__items.append(element)\n",
    "    def pop(self):  # 弹出堆栈，注意需要处理堆栈为空的情况\n",
    "        try:\n",
    "            return self.__items.pop()\n",
    "        except:\n",
    "            print('ERROR: Stack is empty now!')\n",
    "    def peek(self):  # 返回栈顶元素，注意需要处理堆栈为空的情况\n",
    "        try:\n",
    "            return self.__items[-1]\n",
    "        except:\n",
    "            print('ERROR: Stack is empty now!')"
   ]
  },
  {
   "cell_type": "code",
   "execution_count": null,
   "metadata": {},
   "outputs": [],
   "source": [
    "s = Stack()\n",
    "s.push(1)  # 堆栈目前为 [1]\n",
    "print(s.pop()) # 堆栈目前为 [ ]\n",
    "print(s.pop()) # 错误，堆栈为空\n",
    "\n",
    "print('**********')\n",
    "\n",
    "s.push(3.5)  # 堆栈目前为[3.5]\n",
    "s.push(2.7)  # 堆栈目前为[3.5, 2.7]\n",
    "print(s.peek())\n",
    "print(s.size())\n",
    "print(s.isempty())"
   ]
  },
  {
   "cell_type": "markdown",
   "metadata": {},
   "source": [
    "***"
   ]
  },
  {
   "cell_type": "markdown",
   "metadata": {},
   "source": [
    "## 实验3-4 Python高级数据结构示例2：树"
   ]
  },
  {
   "cell_type": "markdown",
   "metadata": {},
   "source": [
    "在数据结构中，树(tree)是由n（n>0）个有限节点组成一个具有层次关系的集合。把它叫做“树”是因为它看起来像一棵倒挂的树，也就是说它是根朝上，而叶朝下的。它具有以下的特点：\n",
    "\n",
    "* 每个节点都只有有限个子节点或无子节点；\n",
    "* 没有父节点的节点称为根节点；\n",
    "* 每一个非根节点有且只有一个父节点；\n",
    "* 除了根节点外，每个子节点可以分为多个不相交的子树；\n",
    "* 树里面没有环路。\n",
    "\n",
    "在C语言中，我们经常利用结构体定义树节点，例如定义一个二叉树结点：\n",
    "\n",
    "```C\n",
    "struct TreeNode\n",
    "{\n",
    "    int data;\n",
    "    struct TreeNode* LNode;\n",
    "    struct TreeNode* RNode;\n",
    "};\n",
    "```\n",
    "\n",
    "*结果我们实际运用时被烦人的指针弄晕了……*"
   ]
  },
  {
   "cell_type": "markdown",
   "metadata": {},
   "source": [
    "在Python中，我们可以创建一个类构造一棵树，现在我们定义一个二叉树类，并测试相关这个类方法。"
   ]
  },
  {
   "cell_type": "code",
   "execution_count": null,
   "metadata": {},
   "outputs": [],
   "source": [
    "class BinaryTree:\n",
    "    def __init__(self,data=None,left=None,right=None):  # 如果创建节点对象时left或right参数为空，则默认该节点没有左或右子树\n",
    "        self.data=data\n",
    "        self.left=left\n",
    "        self.right=right\n",
    "    def preorder(self):  # 前序遍历\n",
    "        print(self.data,end=' ')\n",
    "        if self.left != None:\n",
    "            self.left.preorder()\n",
    "        if self.right != None:\n",
    "            self.right.preorder()\n",
    "    def midorder(self):  # 中序遍历\n",
    "        if self.left != None:\n",
    "            self.left.midorder()\n",
    "        print(self.data,end=' ')\n",
    "        if self.right != None:\n",
    "            self.right.midorder()\n",
    "    def postorder(self):  # 后序遍历\n",
    "        if self.left != None:\n",
    "            self.left.preorder()\n",
    "        if self.right != None:\n",
    "            self.right.preorder()\n",
    "        print(self.data,end=' ')\n",
    "    def height(self):\n",
    "        if self.data is None:  # 空的树高度为0, 只有root节点的树高度为1\n",
    "            return 0\n",
    "        elif self.left is None and self.right is None:\n",
    "            return 1\n",
    "        elif self.left is None and self.right is not None:\n",
    "            return 1 + self.right.height()\n",
    "        elif self.left is not None and self.right is None:\n",
    "            return 1 + self.left.height()\n",
    "        else:\n",
    "            return 1 + max(self.left.height(), self.right.height())"
   ]
  },
  {
   "cell_type": "markdown",
   "metadata": {},
   "source": [
    "上述定义地类包含先序、中序和后续遍历，获得树的高度。\n",
    "\n",
    "我们以这棵树作为测试。\n",
    "\n",
    "![树](img/Lab03-4-1.png)"
   ]
  },
  {
   "cell_type": "code",
   "execution_count": null,
   "metadata": {},
   "outputs": [],
   "source": [
    "layer3_2 = BinaryTree(2,BinaryTree(7),BinaryTree(4))\n",
    "layer2_5 = BinaryTree(5,BinaryTree(6),layer3_2)\n",
    "layer2_1 = BinaryTree(1,BinaryTree(0),BinaryTree(8))\n",
    "layer1_3 = BinaryTree(3,layer2_5,layer2_1)"
   ]
  },
  {
   "cell_type": "code",
   "execution_count": null,
   "metadata": {},
   "outputs": [],
   "source": [
    "layer1_3.preorder()\n",
    "print()\n",
    "layer1_3.midorder()\n",
    "print()\n",
    "layer1_3.postorder()\n",
    "print()\n",
    "print(layer1_3.height())"
   ]
  },
  {
   "cell_type": "markdown",
   "metadata": {},
   "source": [
    "Python有一个第三方库[AnyTree](https://anytree.readthedocs.io/en/latest/#)，可以方便的创建一棵树并对其操作，我们无需过多关注内部实现细节。"
   ]
  },
  {
   "cell_type": "markdown",
   "metadata": {},
   "source": [
    "***"
   ]
  },
  {
   "cell_type": "markdown",
   "metadata": {},
   "source": [
    "## 实验3-5 正则表达式初步"
   ]
  },
  {
   "cell_type": "markdown",
   "metadata": {},
   "source": [
    "正则表达式使用单个字符串来描述、匹配一系列符合某个句法规则的字符串。在很多文本编辑器里，正则表达式通常被用来检索、替换那些符合某个模式的文本。\n",
    "\n",
    "Python自1.5版本起增加了`re`模块，它提供Perl风格的正则表达式模式。`re`模块使Python语言拥有全部的正则表达式功能。\n",
    "\n",
    "我们来尝试使用`re`库中的一些方法。"
   ]
  },
  {
   "cell_type": "markdown",
   "metadata": {},
   "source": [
    "### 步骤1 `match()`方法"
   ]
  },
  {
   "cell_type": "markdown",
   "metadata": {},
   "source": [
    "当我们注册一个论坛时需要提供自己的邮箱地址作为用户名，为了防止恶意注册，网站都会设置一个检查机制检验输入的电子邮箱地址是否合法。\n",
    "\n",
    "可以利用该正则表达式匹配电子邮箱地址：`^[A-Za-z0-9-._]+@[A-Za-z0-9-]+(\\.[A-Za-z0-9]+)*(\\.[A-Za-z]{2,6})$`\n",
    "\n",
    "利用[Regexper](https://regexper.com/#%5E%5BA-Za-z0-9-._%5D%2B%40%5BA-Za-z0-9-%5D%2B%28%5C.%5BA-Za-z0-9%5D%2B%29*%28%5C.%5BA-Za-z%5D%7B2%2C6%7D%29%24)可视化这个正则表达式如图所示\n",
    "\n",
    "![电子邮箱正则表达式](img/Lab03-5-1.png)"
   ]
  },
  {
   "cell_type": "code",
   "execution_count": null,
   "metadata": {},
   "outputs": [],
   "source": [
    "import re\n",
    "p = '^[A-Za-z0-9-._]+@[A-Za-z0-9-]+(\\.[A-Za-z0-9]+)*(\\.[A-Za-z]{2,6})$'\n",
    "s1 = 'tom@gmail.com'\n",
    "s2 = 'xiaoming_wang123@dase.ecnu.edu.cn'\n",
    "s3 = '113@s#h.xyz'\n",
    "print(re.match(p,s1))\n",
    "print(re.match(p,s2))\n",
    "print(re.match(p,s3))"
   ]
  },
  {
   "cell_type": "markdown",
   "metadata": {},
   "source": [
    "如果一个字符串符合正则表达式的匹配模式，则`match()`方法返回一个对象，包含匹配位置属性`span`和匹配字符串`match`。\n",
    "\n",
    "如果不符合，则返回空对象None。"
   ]
  },
  {
   "cell_type": "markdown",
   "metadata": {},
   "source": [
    "### 步骤2 `search()`方法"
   ]
  },
  {
   "cell_type": "markdown",
   "metadata": {},
   "source": [
    "网管有一天在群中发布消息\n",
    "\n",
    "> *技术部-小张:* 请全体员工把自己办公室的电脑IP地址提交给各自部门主管，各自部门主管再提交至技术部小张。\n",
    "\n",
    "后来小张收到了各自部门主管提交的IP地址列表。有些主管贴心地把姓名和IP地址分成两列存为Excel文件，但是一些主管懒得处理，直接把各自员工地聊天记录**粘贴在一起提交了**……\n",
    "\n",
    "![WeChat](img/Lab03-5-2.png)\n",
    "\n",
    "小张也懒得处理，让新来的小李把广告部的IP地址整理好，结果小李最后生成了['张三：172.15.34.12','李四：172.15.34.13',...]\n",
    "\n",
    "有的员工眼花可能上报了错误的IP地址，我们需要通过正则表达式找出不符合规范的IP地址。"
   ]
  },
  {
   "cell_type": "code",
   "execution_count": null,
   "metadata": {},
   "outputs": [],
   "source": [
    "import re\n",
    "ip_list=['张三：172.15.34.12','李四：172.15.34.13','王五：172.15.34.14','小明：172.15.334.15']\n",
    "p = '(([0-9]|[1-9][0-9]|1[0-9]{2}|2[0-4][0-9]|25[0-5])\\.){3}([0-9]|[1-9][0-9]|1[0-9]{2}|2[0-4][0-9]|25[0-5])$'\n",
    "\n",
    "for ip in ip_list:\n",
    "    if re.search(p,ip) == None:\n",
    "        print(ip+' is ERROR!!!')\n",
    "    else:\n",
    "        print('OK')"
   ]
  },
  {
   "cell_type": "markdown",
   "metadata": {},
   "source": [
    "可以看到，小明提交的IP地址有明显错误，如果字符串中没有符合正则表达式的子串，则`search()`方法返回None"
   ]
  },
  {
   "cell_type": "markdown",
   "metadata": {},
   "source": [
    "**注意：`match()`方法和`search()`方法的区别**\n",
    "\n",
    "* `re.match`只匹配字符串的开始，如果字符串开始不符合正则表达式，则匹配失败，函数返回None；\n",
    "\n",
    "* 而`re.search`匹配整个字符串，直到找到一个匹配。"
   ]
  },
  {
   "cell_type": "markdown",
   "metadata": {},
   "source": [
    "***"
   ]
  },
  {
   "cell_type": "markdown",
   "metadata": {},
   "source": [
    "## 实验练习03"
   ]
  },
  {
   "cell_type": "markdown",
   "metadata": {},
   "source": [
    "1. 请编写一个函数，利用 ***辗转除2取余法*** 实现将32位二进制的IPv4地址转换为我们常见的十进制IPv4地址\n",
    "2. 请创建一个类模拟实现数据结构中“队列”，类中应包含入队、出队、取队首/队尾元素等方法\n",
    "3. 请完善实验3-4中二叉树类的相关方法"
   ]
  }
 ],
 "metadata": {
  "kernelspec": {
   "display_name": "Python 3",
   "language": "python",
   "name": "python3"
  },
  "language_info": {
   "codemirror_mode": {
    "name": "ipython",
    "version": 3
   },
   "file_extension": ".py",
   "mimetype": "text/x-python",
   "name": "python",
   "nbconvert_exporter": "python",
   "pygments_lexer": "ipython3",
   "version": "3.7.4"
  }
 },
 "nbformat": 4,
 "nbformat_minor": 4
}
